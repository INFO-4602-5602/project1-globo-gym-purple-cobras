{
 "cells": [
  {
   "cell_type": "code",
   "execution_count": 401,
   "metadata": {
    "collapsed": false
   },
   "outputs": [],
   "source": [
    "import pandas as pd; import numpy as np; from shapely import geometry; import geopandas as gpd\n",
    "import json; from pprint import pprint; import sys\n",
    "%matplotlib inline"
   ]
  },
  {
   "cell_type": "markdown",
   "metadata": {},
   "source": [
    "# Breaking everything down to Buildings"
   ]
  },
  {
   "cell_type": "code",
   "execution_count": 272,
   "metadata": {
    "collapsed": false
   },
   "outputs": [],
   "source": [
    "buildings = pd.read_csv('../raw_data/ZayoHackathonData_Buildings.csv')\n",
    "sites     = pd.read_csv('../raw_data/ZayoHackathonData_Sites.csv')\n",
    "accounts  = pd.read_csv('../raw_data/ZayoHackathonData_Accounts.csv')\n",
    "opportunities = pd.read_csv('../raw_data/ZayoHackathonData_Opportunities.csv')\n",
    "products      = pd.read_csv('../raw_data/ZayoHackathonData_Services.csv')"
   ]
  },
  {
   "cell_type": "code",
   "execution_count": 50,
   "metadata": {
    "collapsed": false
   },
   "outputs": [
    {
     "name": "stdout",
     "output_type": "stream",
     "text": [
      "Index(['Building ID', 'Market', 'Street Address', 'City', 'State',\n",
      "       'Postal Code', 'Latitude', 'Longitude', 'On Zayo Network Status',\n",
      "       'Net Classification', 'Type', 'Network Proximity',\n",
      "       ' Estimated Build Cost '],\n",
      "      dtype='object')\n"
     ]
    },
    {
     "data": {
      "text/html": [
       "<div>\n",
       "<table border=\"1\" class=\"dataframe\">\n",
       "  <thead>\n",
       "    <tr style=\"text-align: right;\">\n",
       "      <th></th>\n",
       "      <th>Building ID</th>\n",
       "      <th>Market</th>\n",
       "      <th>Street Address</th>\n",
       "      <th>City</th>\n",
       "      <th>State</th>\n",
       "      <th>Postal Code</th>\n",
       "      <th>Latitude</th>\n",
       "      <th>Longitude</th>\n",
       "      <th>On Zayo Network Status</th>\n",
       "      <th>Net Classification</th>\n",
       "      <th>Type</th>\n",
       "      <th>Network Proximity</th>\n",
       "      <th>Estimated Build Cost</th>\n",
       "    </tr>\n",
       "  </thead>\n",
       "  <tbody>\n",
       "    <tr>\n",
       "      <th>0</th>\n",
       "      <td>Bldg-115472</td>\n",
       "      <td>Atlanta</td>\n",
       "      <td>953 Donnelly Ave SW</td>\n",
       "      <td>Atlanta</td>\n",
       "      <td>GA</td>\n",
       "      <td>30310</td>\n",
       "      <td>33.728521</td>\n",
       "      <td>-84.418751</td>\n",
       "      <td>Not on Zayo Network</td>\n",
       "      <td>Fiber Only</td>\n",
       "      <td>Office - Multi Tenant</td>\n",
       "      <td>116.91</td>\n",
       "      <td>$13,507.30</td>\n",
       "    </tr>\n",
       "  </tbody>\n",
       "</table>\n",
       "</div>"
      ],
      "text/plain": [
       "   Building ID   Market       Street Address     City State Postal Code  \\\n",
       "0  Bldg-115472  Atlanta  953 Donnelly Ave SW  Atlanta    GA       30310   \n",
       "\n",
       "    Latitude  Longitude On Zayo Network Status Net Classification  \\\n",
       "0  33.728521 -84.418751    Not on Zayo Network         Fiber Only   \n",
       "\n",
       "                    Type  Network Proximity  Estimated Build Cost   \n",
       "0  Office - Multi Tenant             116.91            $13,507.30   "
      ]
     },
     "execution_count": 50,
     "metadata": {},
     "output_type": "execute_result"
    }
   ],
   "source": [
    "print(buildings.columns)\n",
    "buildings.head(1)"
   ]
  },
  {
   "cell_type": "code",
   "execution_count": 291,
   "metadata": {
    "collapsed": false
   },
   "outputs": [],
   "source": [
    "buildings['est_cost'] = buildings[' Estimated Build Cost '].replace('[\\$,)]','', regex=True ).astype(float)"
   ]
  },
  {
   "cell_type": "code",
   "execution_count": 52,
   "metadata": {
    "collapsed": false
   },
   "outputs": [
    {
     "data": {
      "text/html": [
       "<div>\n",
       "<table border=\"1\" class=\"dataframe\">\n",
       "  <thead>\n",
       "    <tr style=\"text-align: right;\">\n",
       "      <th></th>\n",
       "      <th>Building ID</th>\n",
       "      <th>Market</th>\n",
       "      <th>Street Address</th>\n",
       "      <th>City</th>\n",
       "      <th>State</th>\n",
       "      <th>Postal Code</th>\n",
       "      <th>Latitude</th>\n",
       "      <th>Longitude</th>\n",
       "      <th>On Zayo Network Status</th>\n",
       "      <th>Net Classification</th>\n",
       "      <th>Type</th>\n",
       "      <th>Network Proximity</th>\n",
       "      <th>Estimated Build Cost</th>\n",
       "      <th>est_cost</th>\n",
       "    </tr>\n",
       "  </thead>\n",
       "  <tbody>\n",
       "    <tr>\n",
       "      <th>0</th>\n",
       "      <td>Bldg-115472</td>\n",
       "      <td>Atlanta</td>\n",
       "      <td>953 Donnelly Ave SW</td>\n",
       "      <td>Atlanta</td>\n",
       "      <td>GA</td>\n",
       "      <td>30310</td>\n",
       "      <td>33.728521</td>\n",
       "      <td>-84.418751</td>\n",
       "      <td>Not on Zayo Network</td>\n",
       "      <td>Fiber Only</td>\n",
       "      <td>Office - Multi Tenant</td>\n",
       "      <td>116.91</td>\n",
       "      <td>$13,507.30</td>\n",
       "      <td>13507.30</td>\n",
       "    </tr>\n",
       "    <tr>\n",
       "      <th>1</th>\n",
       "      <td>Bldg-115473</td>\n",
       "      <td>Atlanta</td>\n",
       "      <td>555 Old Norcross Rd</td>\n",
       "      <td>Lawrenceville</td>\n",
       "      <td>GA</td>\n",
       "      <td>30046</td>\n",
       "      <td>33.946700</td>\n",
       "      <td>-83.995000</td>\n",
       "      <td>Not on Zayo Network</td>\n",
       "      <td>Fiber Only</td>\n",
       "      <td>Office - Multi Tenant</td>\n",
       "      <td>28323.03</td>\n",
       "      <td>$689,752.72</td>\n",
       "      <td>689752.72</td>\n",
       "    </tr>\n",
       "    <tr>\n",
       "      <th>2</th>\n",
       "      <td>Bldg-115475</td>\n",
       "      <td>Atlanta</td>\n",
       "      <td>3159 Royal Dr</td>\n",
       "      <td>Alpharetta</td>\n",
       "      <td>GA</td>\n",
       "      <td>30005</td>\n",
       "      <td>34.056608</td>\n",
       "      <td>-84.265246</td>\n",
       "      <td>On Zayo Network</td>\n",
       "      <td>Fiber Only</td>\n",
       "      <td>Office - Multi Tenant</td>\n",
       "      <td>979.44</td>\n",
       "      <td>$33,506.56</td>\n",
       "      <td>33506.56</td>\n",
       "    </tr>\n",
       "  </tbody>\n",
       "</table>\n",
       "</div>"
      ],
      "text/plain": [
       "   Building ID   Market       Street Address           City State Postal Code  \\\n",
       "0  Bldg-115472  Atlanta  953 Donnelly Ave SW        Atlanta    GA       30310   \n",
       "1  Bldg-115473  Atlanta  555 Old Norcross Rd  Lawrenceville    GA       30046   \n",
       "2  Bldg-115475  Atlanta        3159 Royal Dr     Alpharetta    GA       30005   \n",
       "\n",
       "    Latitude  Longitude On Zayo Network Status Net Classification  \\\n",
       "0  33.728521 -84.418751    Not on Zayo Network         Fiber Only   \n",
       "1  33.946700 -83.995000    Not on Zayo Network         Fiber Only   \n",
       "2  34.056608 -84.265246        On Zayo Network         Fiber Only   \n",
       "\n",
       "                    Type  Network Proximity  Estimated Build Cost    est_cost  \n",
       "0  Office - Multi Tenant             116.91            $13,507.30    13507.30  \n",
       "1  Office - Multi Tenant           28323.03           $689,752.72   689752.72  \n",
       "2  Office - Multi Tenant             979.44            $33,506.56    33506.56  "
      ]
     },
     "execution_count": 52,
     "metadata": {},
     "output_type": "execute_result"
    }
   ],
   "source": [
    "buildings.head(3)"
   ]
  },
  {
   "cell_type": "code",
   "execution_count": 53,
   "metadata": {
    "collapsed": false
   },
   "outputs": [
    {
     "data": {
      "text/html": [
       "<div>\n",
       "<table border=\"1\" class=\"dataframe\">\n",
       "  <thead>\n",
       "    <tr style=\"text-align: right;\">\n",
       "      <th></th>\n",
       "      <th>Site ID</th>\n",
       "      <th>Account ID</th>\n",
       "      <th>Building ID</th>\n",
       "      <th>Market</th>\n",
       "      <th>Site Address</th>\n",
       "      <th>City</th>\n",
       "      <th>State</th>\n",
       "      <th>Postal Code</th>\n",
       "      <th>Network Proximity</th>\n",
       "      <th>On Zayo Network Status</th>\n",
       "    </tr>\n",
       "  </thead>\n",
       "  <tbody>\n",
       "    <tr>\n",
       "      <th>0</th>\n",
       "      <td>Site-000001</td>\n",
       "      <td>Acct-000025</td>\n",
       "      <td>Bldg-115472</td>\n",
       "      <td>Atlanta</td>\n",
       "      <td>953 Donnelly Ave SW</td>\n",
       "      <td>Atlanta</td>\n",
       "      <td>GA</td>\n",
       "      <td>30310</td>\n",
       "      <td>116.91</td>\n",
       "      <td>Not on Zayo Network</td>\n",
       "    </tr>\n",
       "  </tbody>\n",
       "</table>\n",
       "</div>"
      ],
      "text/plain": [
       "       Site ID   Account ID  Building ID   Market         Site Address  \\\n",
       "0  Site-000001  Acct-000025  Bldg-115472  Atlanta  953 Donnelly Ave SW   \n",
       "\n",
       "      City State Postal Code  Network Proximity On Zayo Network Status  \n",
       "0  Atlanta    GA       30310             116.91    Not on Zayo Network  "
      ]
     },
     "execution_count": 53,
     "metadata": {},
     "output_type": "execute_result"
    }
   ],
   "source": [
    "sites.head(1)"
   ]
  },
  {
   "cell_type": "code",
   "execution_count": 54,
   "metadata": {
    "collapsed": false
   },
   "outputs": [
    {
     "data": {
      "text/html": [
       "<div>\n",
       "<table border=\"1\" class=\"dataframe\">\n",
       "  <thead>\n",
       "    <tr style=\"text-align: right;\">\n",
       "      <th></th>\n",
       "      <th>Account ID</th>\n",
       "      <th>Industry</th>\n",
       "      <th>Vertical</th>\n",
       "      <th>Total BRR</th>\n",
       "      <th>AnnualRevenue</th>\n",
       "      <th>NumberOfEmployees</th>\n",
       "      <th>DandB Revenue</th>\n",
       "      <th>DandB Total Employees</th>\n",
       "    </tr>\n",
       "  </thead>\n",
       "  <tbody>\n",
       "    <tr>\n",
       "      <th>0</th>\n",
       "      <td>Acct-000273</td>\n",
       "      <td>Telecommunications</td>\n",
       "      <td>Wireless</td>\n",
       "      <td>$6,084,906.00</td>\n",
       "      <td>$248,747,365.62</td>\n",
       "      <td>397</td>\n",
       "      <td>$356,943,618.45</td>\n",
       "      <td>397</td>\n",
       "    </tr>\n",
       "  </tbody>\n",
       "</table>\n",
       "</div>"
      ],
      "text/plain": [
       "    Account ID            Industry  Vertical       Total BRR   \\\n",
       "0  Acct-000273  Telecommunications  Wireless   $6,084,906.00    \n",
       "\n",
       "      AnnualRevenue   NumberOfEmployees     DandB Revenue   \\\n",
       "0   $248,747,365.62                 397   $356,943,618.45    \n",
       "\n",
       "   DandB Total Employees  \n",
       "0                    397  "
      ]
     },
     "execution_count": 54,
     "metadata": {},
     "output_type": "execute_result"
    }
   ],
   "source": [
    "accounts.head(1)"
   ]
  },
  {
   "cell_type": "code",
   "execution_count": 55,
   "metadata": {
    "collapsed": false,
    "scrolled": true
   },
   "outputs": [
    {
     "data": {
      "text/html": [
       "<div>\n",
       "<table border=\"1\" class=\"dataframe\">\n",
       "  <thead>\n",
       "    <tr style=\"text-align: right;\">\n",
       "      <th></th>\n",
       "      <th>Opportunity ID</th>\n",
       "      <th>Account ID</th>\n",
       "      <th>StageName</th>\n",
       "      <th>IsClosed</th>\n",
       "      <th>IsWon</th>\n",
       "      <th>CreatedDate</th>\n",
       "      <th>Term in Months</th>\n",
       "      <th>Service</th>\n",
       "      <th>Opportunity Type</th>\n",
       "      <th>Product Group</th>\n",
       "      <th>Building ID</th>\n",
       "      <th>Market</th>\n",
       "      <th>Street Address</th>\n",
       "      <th>City</th>\n",
       "      <th>State</th>\n",
       "      <th>Postal Code</th>\n",
       "      <th>Network Proximity</th>\n",
       "      <th>On Zayo Network Status</th>\n",
       "    </tr>\n",
       "  </thead>\n",
       "  <tbody>\n",
       "    <tr>\n",
       "      <th>0</th>\n",
       "      <td>Opp-000001</td>\n",
       "      <td>Acct-000007</td>\n",
       "      <td>Closed - Lost</td>\n",
       "      <td>True</td>\n",
       "      <td>False</td>\n",
       "      <td>7/1/16</td>\n",
       "      <td>12.0</td>\n",
       "      <td>NaN</td>\n",
       "      <td>New Service</td>\n",
       "      <td>Ethernet</td>\n",
       "      <td>Bldg-012582</td>\n",
       "      <td>Atlanta</td>\n",
       "      <td>56 Marietta St NW</td>\n",
       "      <td>Atlanta</td>\n",
       "      <td>GA</td>\n",
       "      <td>30303</td>\n",
       "      <td>66.45</td>\n",
       "      <td>On Zayo Network</td>\n",
       "    </tr>\n",
       "  </tbody>\n",
       "</table>\n",
       "</div>"
      ],
      "text/plain": [
       "  Opportunity ID   Account ID      StageName IsClosed  IsWon CreatedDate  \\\n",
       "0     Opp-000001  Acct-000007  Closed - Lost     True  False      7/1/16   \n",
       "\n",
       "   Term in Months Service Opportunity Type Product Group  Building ID  \\\n",
       "0            12.0     NaN      New Service      Ethernet  Bldg-012582   \n",
       "\n",
       "    Market     Street Address     City State  Postal Code  Network Proximity  \\\n",
       "0  Atlanta  56 Marietta St NW  Atlanta    GA        30303              66.45   \n",
       "\n",
       "  On Zayo Network Status  \n",
       "0        On Zayo Network  "
      ]
     },
     "execution_count": 55,
     "metadata": {},
     "output_type": "execute_result"
    }
   ],
   "source": [
    "opportunities.head(1)"
   ]
  },
  {
   "cell_type": "code",
   "execution_count": 56,
   "metadata": {
    "collapsed": false
   },
   "outputs": [],
   "source": [
    "df = accounts.merge(sites,on=\"Account ID\")"
   ]
  },
  {
   "cell_type": "code",
   "execution_count": 57,
   "metadata": {
    "collapsed": true
   },
   "outputs": [],
   "source": [
    "df2 = df.merge(buildings, on=\"Building ID\")"
   ]
  },
  {
   "cell_type": "code",
   "execution_count": 58,
   "metadata": {
    "collapsed": false
   },
   "outputs": [
    {
     "data": {
      "text/html": [
       "<div>\n",
       "<table border=\"1\" class=\"dataframe\">\n",
       "  <thead>\n",
       "    <tr style=\"text-align: right;\">\n",
       "      <th></th>\n",
       "      <th>Account ID</th>\n",
       "      <th>Industry</th>\n",
       "      <th>Vertical</th>\n",
       "      <th>Total BRR</th>\n",
       "      <th>AnnualRevenue</th>\n",
       "      <th>NumberOfEmployees</th>\n",
       "      <th>DandB Revenue</th>\n",
       "      <th>DandB Total Employees</th>\n",
       "      <th>Site ID</th>\n",
       "      <th>Building ID</th>\n",
       "      <th>...</th>\n",
       "      <th>State_y</th>\n",
       "      <th>Postal Code_y</th>\n",
       "      <th>Latitude</th>\n",
       "      <th>Longitude</th>\n",
       "      <th>On Zayo Network Status_y</th>\n",
       "      <th>Net Classification</th>\n",
       "      <th>Type</th>\n",
       "      <th>Network Proximity_y</th>\n",
       "      <th>Estimated Build Cost</th>\n",
       "      <th>est_cost</th>\n",
       "    </tr>\n",
       "  </thead>\n",
       "  <tbody>\n",
       "    <tr>\n",
       "      <th>0</th>\n",
       "      <td>Acct-000273</td>\n",
       "      <td>Telecommunications</td>\n",
       "      <td>Wireless</td>\n",
       "      <td>$6,084,906.00</td>\n",
       "      <td>$248,747,365.62</td>\n",
       "      <td>397</td>\n",
       "      <td>$356,943,618.45</td>\n",
       "      <td>397</td>\n",
       "      <td>Site-000061</td>\n",
       "      <td>Bldg-115571</td>\n",
       "      <td>...</td>\n",
       "      <td>GA</td>\n",
       "      <td>30309</td>\n",
       "      <td>33.800922</td>\n",
       "      <td>-84.393502</td>\n",
       "      <td>On Zayo Network</td>\n",
       "      <td>Fiber Only</td>\n",
       "      <td>Office - Multi Tenant</td>\n",
       "      <td>198.92</td>\n",
       "      <td>$15,967.60</td>\n",
       "      <td>15967.6</td>\n",
       "    </tr>\n",
       "  </tbody>\n",
       "</table>\n",
       "<p>1 rows × 30 columns</p>\n",
       "</div>"
      ],
      "text/plain": [
       "    Account ID            Industry  Vertical       Total BRR   \\\n",
       "0  Acct-000273  Telecommunications  Wireless   $6,084,906.00    \n",
       "\n",
       "      AnnualRevenue   NumberOfEmployees     DandB Revenue   \\\n",
       "0   $248,747,365.62                 397   $356,943,618.45    \n",
       "\n",
       "   DandB Total Employees      Site ID  Building ID   ...    State_y  \\\n",
       "0                    397  Site-000061  Bldg-115571   ...         GA   \n",
       "\n",
       "  Postal Code_y   Latitude  Longitude On Zayo Network Status_y  \\\n",
       "0         30309  33.800922 -84.393502          On Zayo Network   \n",
       "\n",
       "   Net Classification                   Type Network Proximity_y  \\\n",
       "0          Fiber Only  Office - Multi Tenant              198.92   \n",
       "\n",
       "   Estimated Build Cost  est_cost  \n",
       "0            $15,967.60   15967.6  \n",
       "\n",
       "[1 rows x 30 columns]"
      ]
     },
     "execution_count": 58,
     "metadata": {},
     "output_type": "execute_result"
    }
   ],
   "source": [
    "df2.head(1)"
   ]
  },
  {
   "cell_type": "code",
   "execution_count": 59,
   "metadata": {
    "collapsed": false
   },
   "outputs": [
    {
     "data": {
      "text/plain": [
       "Index(['Account ID', 'Industry', 'Vertical', ' Total BRR ', ' AnnualRevenue ',\n",
       "       'NumberOfEmployees', ' DandB Revenue ', 'DandB Total Employees',\n",
       "       'Site ID', 'Building ID', 'Market_x', 'Site Address', 'City_x',\n",
       "       'State_x', 'Postal Code_x', 'Network Proximity_x',\n",
       "       'On Zayo Network Status_x', 'Market_y', 'Street Address', 'City_y',\n",
       "       'State_y', 'Postal Code_y', 'Latitude', 'Longitude',\n",
       "       'On Zayo Network Status_y', 'Net Classification', 'Type',\n",
       "       'Network Proximity_y', ' Estimated Build Cost ', 'est_cost'],\n",
       "      dtype='object')"
      ]
     },
     "execution_count": 59,
     "metadata": {},
     "output_type": "execute_result"
    }
   ],
   "source": [
    "df2.head(2).columns"
   ]
  },
  {
   "cell_type": "code",
   "execution_count": 271,
   "metadata": {
    "collapsed": false
   },
   "outputs": [
    {
     "data": {
      "text/html": [
       "<div>\n",
       "<table border=\"1\" class=\"dataframe\">\n",
       "  <thead>\n",
       "    <tr style=\"text-align: right;\">\n",
       "      <th></th>\n",
       "      <th>Opportunity ID</th>\n",
       "      <th>Account ID</th>\n",
       "      <th>StageName</th>\n",
       "      <th>IsClosed</th>\n",
       "      <th>IsWon</th>\n",
       "      <th>CreatedDate</th>\n",
       "      <th>Term in Months</th>\n",
       "      <th>Service</th>\n",
       "      <th>Opportunity Type</th>\n",
       "      <th>Product Group</th>\n",
       "      <th>Building ID</th>\n",
       "      <th>Market</th>\n",
       "      <th>Street Address</th>\n",
       "      <th>City</th>\n",
       "      <th>State</th>\n",
       "      <th>Postal Code</th>\n",
       "      <th>Network Proximity</th>\n",
       "      <th>On Zayo Network Status</th>\n",
       "      <th>b_id</th>\n",
       "    </tr>\n",
       "  </thead>\n",
       "  <tbody>\n",
       "    <tr>\n",
       "      <th>0</th>\n",
       "      <td>Opp-000001</td>\n",
       "      <td>Acct-000007</td>\n",
       "      <td>Closed - Lost</td>\n",
       "      <td>True</td>\n",
       "      <td>False</td>\n",
       "      <td>7/1/16</td>\n",
       "      <td>12.0</td>\n",
       "      <td>NaN</td>\n",
       "      <td>New Service</td>\n",
       "      <td>Ethernet</td>\n",
       "      <td>Bldg-012582</td>\n",
       "      <td>Atlanta</td>\n",
       "      <td>56 Marietta St NW</td>\n",
       "      <td>Atlanta</td>\n",
       "      <td>GA</td>\n",
       "      <td>30303</td>\n",
       "      <td>66.45</td>\n",
       "      <td>On Zayo Network</td>\n",
       "      <td>Bldg-012582</td>\n",
       "    </tr>\n",
       "    <tr>\n",
       "      <th>1</th>\n",
       "      <td>Opp-000002</td>\n",
       "      <td>Acct-000986</td>\n",
       "      <td>5 - Accepted</td>\n",
       "      <td>True</td>\n",
       "      <td>True</td>\n",
       "      <td>7/1/16</td>\n",
       "      <td>60.0</td>\n",
       "      <td>NaN</td>\n",
       "      <td>New Service</td>\n",
       "      <td>Dark Fiber - Metro</td>\n",
       "      <td>Bldg-016855</td>\n",
       "      <td>Atlanta</td>\n",
       "      <td>300 Satellite Blvd NW</td>\n",
       "      <td>Suwanee</td>\n",
       "      <td>GA</td>\n",
       "      <td>30024</td>\n",
       "      <td>374.79</td>\n",
       "      <td>On Zayo Network</td>\n",
       "      <td>Bldg-016855</td>\n",
       "    </tr>\n",
       "    <tr>\n",
       "      <th>2</th>\n",
       "      <td>Opp-000002</td>\n",
       "      <td>Acct-000986</td>\n",
       "      <td>5 - Accepted</td>\n",
       "      <td>True</td>\n",
       "      <td>True</td>\n",
       "      <td>7/1/16</td>\n",
       "      <td>60.0</td>\n",
       "      <td>NaN</td>\n",
       "      <td>New Service</td>\n",
       "      <td>Dark Fiber - Metro</td>\n",
       "      <td>Bldg-109003</td>\n",
       "      <td>Atlanta</td>\n",
       "      <td>305 Satellite Blvd NW</td>\n",
       "      <td>Suwanee</td>\n",
       "      <td>GA</td>\n",
       "      <td>30024</td>\n",
       "      <td>250.74</td>\n",
       "      <td>On Zayo Network</td>\n",
       "      <td>Bldg-109003</td>\n",
       "    </tr>\n",
       "    <tr>\n",
       "      <th>3</th>\n",
       "      <td>Opp-000003</td>\n",
       "      <td>Acct-000011</td>\n",
       "      <td>5 - Accepted</td>\n",
       "      <td>True</td>\n",
       "      <td>True</td>\n",
       "      <td>7/1/16</td>\n",
       "      <td>36.0</td>\n",
       "      <td>NaN</td>\n",
       "      <td>New Service</td>\n",
       "      <td>Dark Fiber - Metro</td>\n",
       "      <td>Bldg-012582</td>\n",
       "      <td>Atlanta</td>\n",
       "      <td>56 Marietta St NW</td>\n",
       "      <td>Atlanta</td>\n",
       "      <td>GA</td>\n",
       "      <td>30303</td>\n",
       "      <td>66.45</td>\n",
       "      <td>On Zayo Network</td>\n",
       "      <td>Bldg-012582</td>\n",
       "    </tr>\n",
       "    <tr>\n",
       "      <th>4</th>\n",
       "      <td>Opp-000003</td>\n",
       "      <td>Acct-000011</td>\n",
       "      <td>5 - Accepted</td>\n",
       "      <td>True</td>\n",
       "      <td>True</td>\n",
       "      <td>7/1/16</td>\n",
       "      <td>36.0</td>\n",
       "      <td>NaN</td>\n",
       "      <td>New Service</td>\n",
       "      <td>Dark Fiber - Metro</td>\n",
       "      <td>Bldg-038069</td>\n",
       "      <td>Atlanta</td>\n",
       "      <td>1100 Abernathy Rd NE</td>\n",
       "      <td>Atlanta</td>\n",
       "      <td>GA</td>\n",
       "      <td>30328</td>\n",
       "      <td>151.21</td>\n",
       "      <td>On Zayo Network</td>\n",
       "      <td>Bldg-038069</td>\n",
       "    </tr>\n",
       "  </tbody>\n",
       "</table>\n",
       "</div>"
      ],
      "text/plain": [
       "  Opportunity ID   Account ID      StageName IsClosed  IsWon CreatedDate  \\\n",
       "0     Opp-000001  Acct-000007  Closed - Lost     True  False      7/1/16   \n",
       "1     Opp-000002  Acct-000986   5 - Accepted     True   True      7/1/16   \n",
       "2     Opp-000002  Acct-000986   5 - Accepted     True   True      7/1/16   \n",
       "3     Opp-000003  Acct-000011   5 - Accepted     True   True      7/1/16   \n",
       "4     Opp-000003  Acct-000011   5 - Accepted     True   True      7/1/16   \n",
       "\n",
       "   Term in Months Service Opportunity Type       Product Group  Building ID  \\\n",
       "0            12.0     NaN      New Service            Ethernet  Bldg-012582   \n",
       "1            60.0     NaN      New Service  Dark Fiber - Metro  Bldg-016855   \n",
       "2            60.0     NaN      New Service  Dark Fiber - Metro  Bldg-109003   \n",
       "3            36.0     NaN      New Service  Dark Fiber - Metro  Bldg-012582   \n",
       "4            36.0     NaN      New Service  Dark Fiber - Metro  Bldg-038069   \n",
       "\n",
       "    Market         Street Address     City State  Postal Code  \\\n",
       "0  Atlanta      56 Marietta St NW  Atlanta    GA        30303   \n",
       "1  Atlanta  300 Satellite Blvd NW  Suwanee    GA        30024   \n",
       "2  Atlanta  305 Satellite Blvd NW  Suwanee    GA        30024   \n",
       "3  Atlanta      56 Marietta St NW  Atlanta    GA        30303   \n",
       "4  Atlanta   1100 Abernathy Rd NE  Atlanta    GA        30328   \n",
       "\n",
       "   Network Proximity On Zayo Network Status         b_id  \n",
       "0              66.45        On Zayo Network  Bldg-012582  \n",
       "1             374.79        On Zayo Network  Bldg-016855  \n",
       "2             250.74        On Zayo Network  Bldg-109003  \n",
       "3              66.45        On Zayo Network  Bldg-012582  \n",
       "4             151.21        On Zayo Network  Bldg-038069  "
      ]
     },
     "execution_count": 271,
     "metadata": {},
     "output_type": "execute_result"
    }
   ],
   "source": [
    "opportunities.head()"
   ]
  },
  {
   "cell_type": "code",
   "execution_count": 61,
   "metadata": {
    "collapsed": false
   },
   "outputs": [],
   "source": [
    "x = df2.groupby(\"Building ID\").agg({\n",
    "        \"Latitude\"  : {'lat': lambda x: x.values[0]},\n",
    "        \"Longitude\" : {'lon': lambda x: x.values[0]},\n",
    "        \"Account ID\": {\"Number Accounts\": pd.Series.nunique},\n",
    "        \"est_cost\"  : {\"BuildingCost\" : sum},\n",
    "        \"Site ID\" : {\"Number Sites\" : pd.Series.nunique},\n",
    "        \"On Zayo Network Status_y\": {\n",
    "            \"netStat\" : lambda x: x.values[0]=='On Zayo Network'}\n",
    "    })\n",
    "x.columns = x.columns.get_level_values(1)"
   ]
  },
  {
   "cell_type": "code",
   "execution_count": 62,
   "metadata": {
    "collapsed": false
   },
   "outputs": [],
   "source": [
    "opp_count = pd.DataFrame(opportunities.query('StageName!=\"Closed - Lost\"')['Building ID'].value_counts())"
   ]
  },
  {
   "cell_type": "code",
   "execution_count": 63,
   "metadata": {
    "collapsed": false
   },
   "outputs": [
    {
     "data": {
      "text/html": [
       "<div>\n",
       "<table border=\"1\" class=\"dataframe\">\n",
       "  <thead>\n",
       "    <tr style=\"text-align: right;\">\n",
       "      <th></th>\n",
       "      <th>Building ID</th>\n",
       "    </tr>\n",
       "  </thead>\n",
       "  <tbody>\n",
       "    <tr>\n",
       "      <th>Bldg-014866</th>\n",
       "      <td>417</td>\n",
       "    </tr>\n",
       "    <tr>\n",
       "      <th>Bldg-012582</th>\n",
       "      <td>175</td>\n",
       "    </tr>\n",
       "    <tr>\n",
       "      <th>Bldg-017035</th>\n",
       "      <td>148</td>\n",
       "    </tr>\n",
       "    <tr>\n",
       "      <th>Bldg-065056</th>\n",
       "      <td>94</td>\n",
       "    </tr>\n",
       "    <tr>\n",
       "      <th>Bldg-127057</th>\n",
       "      <td>76</td>\n",
       "    </tr>\n",
       "  </tbody>\n",
       "</table>\n",
       "</div>"
      ],
      "text/plain": [
       "             Building ID\n",
       "Bldg-014866          417\n",
       "Bldg-012582          175\n",
       "Bldg-017035          148\n",
       "Bldg-065056           94\n",
       "Bldg-127057           76"
      ]
     },
     "execution_count": 63,
     "metadata": {},
     "output_type": "execute_result"
    }
   ],
   "source": [
    "opp_count.head()"
   ]
  },
  {
   "cell_type": "code",
   "execution_count": 64,
   "metadata": {
    "collapsed": false
   },
   "outputs": [],
   "source": [
    "gdf = gpd.GeoDataFrame(x)\n",
    "gdf.geometry = gdf.apply(lambda row: geometry.Point(row.lon, row.lat), axis=1)"
   ]
  },
  {
   "cell_type": "code",
   "execution_count": 65,
   "metadata": {
    "collapsed": false
   },
   "outputs": [
    {
     "name": "stdout",
     "output_type": "stream",
     "text": [
      "17209\n"
     ]
    },
    {
     "data": {
      "text/html": [
       "<div>\n",
       "<table border=\"1\" class=\"dataframe\">\n",
       "  <thead>\n",
       "    <tr style=\"text-align: right;\">\n",
       "      <th></th>\n",
       "      <th>lat</th>\n",
       "      <th>lon</th>\n",
       "      <th>BuildingCost</th>\n",
       "      <th>Number Sites</th>\n",
       "      <th>netStat</th>\n",
       "      <th>Number Accounts</th>\n",
       "      <th>geometry</th>\n",
       "    </tr>\n",
       "    <tr>\n",
       "      <th>Building ID</th>\n",
       "      <th></th>\n",
       "      <th></th>\n",
       "      <th></th>\n",
       "      <th></th>\n",
       "      <th></th>\n",
       "      <th></th>\n",
       "      <th></th>\n",
       "    </tr>\n",
       "  </thead>\n",
       "  <tbody>\n",
       "    <tr>\n",
       "      <th>Bldg-011543</th>\n",
       "      <td>39.598945</td>\n",
       "      <td>-104.860338</td>\n",
       "      <td>71994.9</td>\n",
       "      <td>3</td>\n",
       "      <td>True</td>\n",
       "      <td>3</td>\n",
       "      <td>POINT (-104.860338 39.598945)</td>\n",
       "    </tr>\n",
       "    <tr>\n",
       "      <th>Bldg-012582</th>\n",
       "      <td>33.755431</td>\n",
       "      <td>-84.391561</td>\n",
       "      <td>3430141.0</td>\n",
       "      <td>286</td>\n",
       "      <td>True</td>\n",
       "      <td>275</td>\n",
       "      <td>POINT (-84.391561 33.755431)</td>\n",
       "    </tr>\n",
       "  </tbody>\n",
       "</table>\n",
       "</div>"
      ],
      "text/plain": [
       "                   lat         lon  BuildingCost  Number Sites netStat  \\\n",
       "Building ID                                                              \n",
       "Bldg-011543  39.598945 -104.860338       71994.9             3    True   \n",
       "Bldg-012582  33.755431  -84.391561     3430141.0           286    True   \n",
       "\n",
       "             Number Accounts                       geometry  \n",
       "Building ID                                                  \n",
       "Bldg-011543                3  POINT (-104.860338 39.598945)  \n",
       "Bldg-012582              275   POINT (-84.391561 33.755431)  "
      ]
     },
     "execution_count": 65,
     "metadata": {},
     "output_type": "execute_result"
    }
   ],
   "source": [
    "print(len(gdf))\n",
    "gdf.head(2)"
   ]
  },
  {
   "cell_type": "markdown",
   "metadata": {},
   "source": [
    "## Add opportunities (lookup)"
   ]
  },
  {
   "cell_type": "code",
   "execution_count": 23,
   "metadata": {
    "collapsed": false
   },
   "outputs": [],
   "source": [
    "gdf['opportunity'] = 0"
   ]
  },
  {
   "cell_type": "code",
   "execution_count": 86,
   "metadata": {
    "collapsed": false
   },
   "outputs": [
    {
     "data": {
      "text/plain": [
       "Index(['Opportunity ID', 'Account ID', 'StageName', 'IsClosed', 'IsWon',\n",
       "       'CreatedDate', 'Term in Months', 'Service', 'Opportunity Type',\n",
       "       'Product Group', 'Building ID', 'Market', 'Street Address', 'City',\n",
       "       'State', 'Postal Code', 'Network Proximity', 'On Zayo Network Status'],\n",
       "      dtype='object')"
      ]
     },
     "execution_count": 86,
     "metadata": {},
     "output_type": "execute_result"
    }
   ],
   "source": [
    "opportunities.columns"
   ]
  },
  {
   "cell_type": "code",
   "execution_count": 137,
   "metadata": {
    "collapsed": false,
    "scrolled": true
   },
   "outputs": [
    {
     "data": {
      "text/html": [
       "<div>\n",
       "<table border=\"1\" class=\"dataframe\">\n",
       "  <thead>\n",
       "    <tr style=\"text-align: right;\">\n",
       "      <th></th>\n",
       "      <th>lat</th>\n",
       "      <th>lon</th>\n",
       "      <th>BuildingCost</th>\n",
       "      <th>Number Sites</th>\n",
       "      <th>netStat</th>\n",
       "      <th>Number Accounts</th>\n",
       "      <th>geometry</th>\n",
       "    </tr>\n",
       "    <tr>\n",
       "      <th>Building ID</th>\n",
       "      <th></th>\n",
       "      <th></th>\n",
       "      <th></th>\n",
       "      <th></th>\n",
       "      <th></th>\n",
       "      <th></th>\n",
       "      <th></th>\n",
       "    </tr>\n",
       "  </thead>\n",
       "  <tbody>\n",
       "    <tr>\n",
       "      <th>Bldg-011543</th>\n",
       "      <td>39.598945</td>\n",
       "      <td>-104.860338</td>\n",
       "      <td>71994.9</td>\n",
       "      <td>3</td>\n",
       "      <td>True</td>\n",
       "      <td>3</td>\n",
       "      <td>POINT (-104.860338 39.598945)</td>\n",
       "    </tr>\n",
       "    <tr>\n",
       "      <th>Bldg-012582</th>\n",
       "      <td>33.755431</td>\n",
       "      <td>-84.391561</td>\n",
       "      <td>3430141.0</td>\n",
       "      <td>286</td>\n",
       "      <td>True</td>\n",
       "      <td>275</td>\n",
       "      <td>POINT (-84.391561 33.755431)</td>\n",
       "    </tr>\n",
       "  </tbody>\n",
       "</table>\n",
       "</div>"
      ],
      "text/plain": [
       "                   lat         lon  BuildingCost  Number Sites netStat  \\\n",
       "Building ID                                                              \n",
       "Bldg-011543  39.598945 -104.860338       71994.9             3    True   \n",
       "Bldg-012582  33.755431  -84.391561     3430141.0           286    True   \n",
       "\n",
       "             Number Accounts                       geometry  \n",
       "Building ID                                                  \n",
       "Bldg-011543                3  POINT (-104.860338 39.598945)  \n",
       "Bldg-012582              275   POINT (-84.391561 33.755431)  "
      ]
     },
     "execution_count": 137,
     "metadata": {},
     "output_type": "execute_result"
    }
   ],
   "source": [
    "gdf.head(2)"
   ]
  },
  {
   "cell_type": "code",
   "execution_count": 138,
   "metadata": {
    "collapsed": false
   },
   "outputs": [
    {
     "data": {
      "text/html": [
       "<div>\n",
       "<table border=\"1\" class=\"dataframe\">\n",
       "  <thead>\n",
       "    <tr style=\"text-align: right;\">\n",
       "      <th></th>\n",
       "      <th>Opportunity ID</th>\n",
       "      <th>Account ID</th>\n",
       "      <th>StageName</th>\n",
       "      <th>IsClosed</th>\n",
       "      <th>IsWon</th>\n",
       "      <th>CreatedDate</th>\n",
       "      <th>Term in Months</th>\n",
       "      <th>Service</th>\n",
       "      <th>Opportunity Type</th>\n",
       "      <th>Product Group</th>\n",
       "      <th>Building ID</th>\n",
       "      <th>Market</th>\n",
       "      <th>Street Address</th>\n",
       "      <th>City</th>\n",
       "      <th>State</th>\n",
       "      <th>Postal Code</th>\n",
       "      <th>Network Proximity</th>\n",
       "      <th>On Zayo Network Status</th>\n",
       "      <th>b_id</th>\n",
       "    </tr>\n",
       "  </thead>\n",
       "  <tbody>\n",
       "    <tr>\n",
       "      <th>0</th>\n",
       "      <td>Opp-000001</td>\n",
       "      <td>Acct-000007</td>\n",
       "      <td>Closed - Lost</td>\n",
       "      <td>True</td>\n",
       "      <td>False</td>\n",
       "      <td>7/1/16</td>\n",
       "      <td>12.0</td>\n",
       "      <td>NaN</td>\n",
       "      <td>New Service</td>\n",
       "      <td>Ethernet</td>\n",
       "      <td>Bldg-012582</td>\n",
       "      <td>Atlanta</td>\n",
       "      <td>56 Marietta St NW</td>\n",
       "      <td>Atlanta</td>\n",
       "      <td>GA</td>\n",
       "      <td>30303</td>\n",
       "      <td>66.45</td>\n",
       "      <td>On Zayo Network</td>\n",
       "      <td>Bldg-012582</td>\n",
       "    </tr>\n",
       "    <tr>\n",
       "      <th>1</th>\n",
       "      <td>Opp-000002</td>\n",
       "      <td>Acct-000986</td>\n",
       "      <td>5 - Accepted</td>\n",
       "      <td>True</td>\n",
       "      <td>True</td>\n",
       "      <td>7/1/16</td>\n",
       "      <td>60.0</td>\n",
       "      <td>NaN</td>\n",
       "      <td>New Service</td>\n",
       "      <td>Dark Fiber - Metro</td>\n",
       "      <td>Bldg-016855</td>\n",
       "      <td>Atlanta</td>\n",
       "      <td>300 Satellite Blvd NW</td>\n",
       "      <td>Suwanee</td>\n",
       "      <td>GA</td>\n",
       "      <td>30024</td>\n",
       "      <td>374.79</td>\n",
       "      <td>On Zayo Network</td>\n",
       "      <td>Bldg-016855</td>\n",
       "    </tr>\n",
       "  </tbody>\n",
       "</table>\n",
       "</div>"
      ],
      "text/plain": [
       "  Opportunity ID   Account ID      StageName IsClosed  IsWon CreatedDate  \\\n",
       "0     Opp-000001  Acct-000007  Closed - Lost     True  False      7/1/16   \n",
       "1     Opp-000002  Acct-000986   5 - Accepted     True   True      7/1/16   \n",
       "\n",
       "   Term in Months Service Opportunity Type       Product Group  Building ID  \\\n",
       "0            12.0     NaN      New Service            Ethernet  Bldg-012582   \n",
       "1            60.0     NaN      New Service  Dark Fiber - Metro  Bldg-016855   \n",
       "\n",
       "    Market         Street Address     City State  Postal Code  \\\n",
       "0  Atlanta      56 Marietta St NW  Atlanta    GA        30303   \n",
       "1  Atlanta  300 Satellite Blvd NW  Suwanee    GA        30024   \n",
       "\n",
       "   Network Proximity On Zayo Network Status         b_id  \n",
       "0              66.45        On Zayo Network  Bldg-012582  \n",
       "1             374.79        On Zayo Network  Bldg-016855  "
      ]
     },
     "execution_count": 138,
     "metadata": {},
     "output_type": "execute_result"
    }
   ],
   "source": [
    "opportunities.head(2)"
   ]
  },
  {
   "cell_type": "code",
   "execution_count": 275,
   "metadata": {
    "collapsed": true
   },
   "outputs": [],
   "source": [
    "opportunities['b_id'] = opportunities['Building ID']\n",
    "products['b_id'] = products['Building ID']"
   ]
  },
  {
   "cell_type": "code",
   "execution_count": 140,
   "metadata": {
    "collapsed": false
   },
   "outputs": [
    {
     "name": "stdout",
     "output_type": "stream",
     "text": [
      "Index(['Opportunity ID', 'Account ID', 'StageName', 'IsClosed', 'IsWon',\n",
      "       'CreatedDate', 'Term in Months', 'Service', 'Opportunity Type',\n",
      "       'Product Group', 'Building ID', 'Market', 'Street Address', 'City',\n",
      "       'State', 'Postal Code', 'Network Proximity', 'On Zayo Network Status',\n",
      "       'b_id'],\n",
      "      dtype='object')\n"
     ]
    },
    {
     "data": {
      "text/html": [
       "<div>\n",
       "<table border=\"1\" class=\"dataframe\">\n",
       "  <thead>\n",
       "    <tr style=\"text-align: right;\">\n",
       "      <th></th>\n",
       "      <th>Opportunity ID</th>\n",
       "      <th>Account ID</th>\n",
       "      <th>StageName</th>\n",
       "      <th>IsClosed</th>\n",
       "      <th>IsWon</th>\n",
       "      <th>CreatedDate</th>\n",
       "      <th>Term in Months</th>\n",
       "      <th>Service</th>\n",
       "      <th>Opportunity Type</th>\n",
       "      <th>Product Group</th>\n",
       "      <th>Building ID</th>\n",
       "      <th>Market</th>\n",
       "      <th>Street Address</th>\n",
       "      <th>City</th>\n",
       "      <th>State</th>\n",
       "      <th>Postal Code</th>\n",
       "      <th>Network Proximity</th>\n",
       "      <th>On Zayo Network Status</th>\n",
       "      <th>b_id</th>\n",
       "    </tr>\n",
       "  </thead>\n",
       "  <tbody>\n",
       "    <tr>\n",
       "      <th>0</th>\n",
       "      <td>Opp-000001</td>\n",
       "      <td>Acct-000007</td>\n",
       "      <td>Closed - Lost</td>\n",
       "      <td>True</td>\n",
       "      <td>False</td>\n",
       "      <td>7/1/16</td>\n",
       "      <td>12.0</td>\n",
       "      <td>NaN</td>\n",
       "      <td>New Service</td>\n",
       "      <td>Ethernet</td>\n",
       "      <td>Bldg-012582</td>\n",
       "      <td>Atlanta</td>\n",
       "      <td>56 Marietta St NW</td>\n",
       "      <td>Atlanta</td>\n",
       "      <td>GA</td>\n",
       "      <td>30303</td>\n",
       "      <td>66.45</td>\n",
       "      <td>On Zayo Network</td>\n",
       "      <td>Bldg-012582</td>\n",
       "    </tr>\n",
       "    <tr>\n",
       "      <th>1</th>\n",
       "      <td>Opp-000002</td>\n",
       "      <td>Acct-000986</td>\n",
       "      <td>5 - Accepted</td>\n",
       "      <td>True</td>\n",
       "      <td>True</td>\n",
       "      <td>7/1/16</td>\n",
       "      <td>60.0</td>\n",
       "      <td>NaN</td>\n",
       "      <td>New Service</td>\n",
       "      <td>Dark Fiber - Metro</td>\n",
       "      <td>Bldg-016855</td>\n",
       "      <td>Atlanta</td>\n",
       "      <td>300 Satellite Blvd NW</td>\n",
       "      <td>Suwanee</td>\n",
       "      <td>GA</td>\n",
       "      <td>30024</td>\n",
       "      <td>374.79</td>\n",
       "      <td>On Zayo Network</td>\n",
       "      <td>Bldg-016855</td>\n",
       "    </tr>\n",
       "  </tbody>\n",
       "</table>\n",
       "</div>"
      ],
      "text/plain": [
       "  Opportunity ID   Account ID      StageName IsClosed  IsWon CreatedDate  \\\n",
       "0     Opp-000001  Acct-000007  Closed - Lost     True  False      7/1/16   \n",
       "1     Opp-000002  Acct-000986   5 - Accepted     True   True      7/1/16   \n",
       "\n",
       "   Term in Months Service Opportunity Type       Product Group  Building ID  \\\n",
       "0            12.0     NaN      New Service            Ethernet  Bldg-012582   \n",
       "1            60.0     NaN      New Service  Dark Fiber - Metro  Bldg-016855   \n",
       "\n",
       "    Market         Street Address     City State  Postal Code  \\\n",
       "0  Atlanta      56 Marietta St NW  Atlanta    GA        30303   \n",
       "1  Atlanta  300 Satellite Blvd NW  Suwanee    GA        30024   \n",
       "\n",
       "   Network Proximity On Zayo Network Status         b_id  \n",
       "0              66.45        On Zayo Network  Bldg-012582  \n",
       "1             374.79        On Zayo Network  Bldg-016855  "
      ]
     },
     "execution_count": 140,
     "metadata": {},
     "output_type": "execute_result"
    }
   ],
   "source": [
    "print(opportunities.columns)\n",
    "opportunities.head(2)"
   ]
  },
  {
   "cell_type": "code",
   "execution_count": 393,
   "metadata": {
    "collapsed": false
   },
   "outputs": [],
   "source": [
    "def buildFeatureWithOpportunity(row):\n",
    "    \n",
    "    opps = opportunities.query(\"b_id=='{0}'\".format(row.name))    \n",
    "    op = [0,0,0,0,0,0,0]\n",
    "\n",
    "    if len(opps):\n",
    "        op[0] = 1\n",
    "        val_counts = opps.StageName.value_counts()\n",
    "        for idx, stage in enumerate(['1 - Working','2 - Best Case','3 - Committed','4 - Closed', '5 - Accepted', 'Closed - Lost']):\n",
    "            if stage in val_counts:\n",
    "                op[idx+1] = int(val_counts[stage])\n",
    "    \n",
    "    feat = {\"type\":\"Feature\",\n",
    "            \"properties\":{\n",
    "                    \"opp_0\":    op[0],\n",
    "                    \"opp_1\":    op[1],\n",
    "                    \"opp_2\":    op[2],\n",
    "                    \"opp_3\":    op[3],\n",
    "                    \"opp_4\":    op[4],\n",
    "                    \"opp_5\":    op[5],\n",
    "                    \"opp_lost\": op[6]\n",
    "                }\n",
    "            }\n",
    "    return feat"
   ]
  },
  {
   "cell_type": "code",
   "execution_count": 394,
   "metadata": {
    "collapsed": false
   },
   "outputs": [
    {
     "data": {
      "text/plain": [
       "Index(['Service ID', 'Account ID', ' Total MRR ', ' Netx MRC ',\n",
       "       'Product Group', 'Status', 'Building ID', 'Street Address', 'City',\n",
       "       'State', 'Postal Code', 'Country', 'b_id', 'total_mrr', 'netx_mrc'],\n",
       "      dtype='object')"
      ]
     },
     "execution_count": 394,
     "metadata": {},
     "output_type": "execute_result"
    }
   ],
   "source": [
    "products.columns"
   ]
  },
  {
   "cell_type": "code",
   "execution_count": 395,
   "metadata": {
    "collapsed": false
   },
   "outputs": [],
   "source": [
    "products['total_mrr'] = products[' Total MRR '].replace('[\\$,()]','', regex=True )\n",
    "products.total_mrr = products.total_mrr.replace('[-]',0, regex=True ).astype(float)\n",
    "\n",
    "products['netx_mrc'] = products[' Netx MRC '].replace('[\\$,()]','', regex=True )\n",
    "products.netx_mrc = products.netx_mrc.replace('[-]',0, regex=True ).astype(float)"
   ]
  },
  {
   "cell_type": "code",
   "execution_count": 396,
   "metadata": {
    "collapsed": false
   },
   "outputs": [],
   "source": [
    "# Adding building products...\n",
    "product_list = list(products['Product Group'].unique())\n",
    "#over_ride\n",
    "product_list = ['Dark Fiber - Metro',\n",
    "    'Ethernet',\n",
    "    'IP Services',\n",
    "    'SONET',\n",
    "    'FTT - Dark Fiber',\n",
    "    'ISP',\n",
    "    'Managed WAN-LAN',\n",
    "    'FTT - Ethernet',\n",
    "    'Dark Fiber - Long Haul',\n",
    "    'FTT - Small Cell',\n",
    "    'Wavelengths - Long Haul',\n",
    "    'Wavelengths - Metro',\n",
    "    'zColo']\n",
    "\n",
    "def buildProducts(row):\n",
    "    \n",
    "    #prods is a dataframe of products for this building\n",
    "    prods = products.query(\"b_id=='{0}'\".format(row.name))\n",
    "    \n",
    "    if len(prods)==0:\n",
    "        b_rev = 0\n",
    "        val_counts={}\n",
    "    else:\n",
    "        #total building revenue potential -- not at a per product level\n",
    "        b_rev = int(prods.total_mrr.sum() - prods.netx_mrc.sum())\n",
    "        val_counts = prods['Product Group'].value_counts()\n",
    "    \n",
    "    #Build an empty hash for this buildings products:\n",
    "    building_products = {}\n",
    "\n",
    "    for p_name in product_list:\n",
    "        if p_name in val_counts:\n",
    "            building_products[p_name] = int(val_counts[p_name])\n",
    "        else:\n",
    "            building_products[p_name] = 0\n",
    "    \n",
    "    return b_rev, building_products"
   ]
  },
  {
   "cell_type": "code",
   "execution_count": 397,
   "metadata": {
    "collapsed": false
   },
   "outputs": [],
   "source": [
    "def make_geojson(row):\n",
    "    geom = {\"type\":\"Point\",\"coordinates\":[]}\n",
    "    if (not np.isnan(row.lon) and not np.isnan(row.lat)):\n",
    "        geom['coordinates'].append(row.lon)\n",
    "        geom['coordinates'].append(row.lat)\n",
    "    else:\n",
    "        return false\n",
    "    \n",
    "    if row['netStat']:\n",
    "        cost = 0\n",
    "        netStat = 1\n",
    "    else:\n",
    "        cost = row['BuildingCost']\n",
    "        netStat = 0\n",
    "    \n",
    "    feat = buildFeatureWithOpportunity(row)\n",
    "    feat[\"geometry\"]  = geom\n",
    "    \n",
    "    feat[\"properties\"]\n",
    "    feat[\"properties\"][\"sites\"]       = row[\"Number Sites\"],\n",
    "    feat[\"properties\"][\"accounts\"]    = row[\"Number Accounts\"],\n",
    "    feat[\"properties\"][\"cost\"]        = cost\n",
    "    feat[\"properties\"][\"netStat\"]     = netStat\n",
    "    \n",
    "    b_rev, prods = buildProducts(row)\n",
    "    \n",
    "    feat[\"properties\"][\"b_rev\"] = b_rev\n",
    "    \n",
    "    feat[\"properties\"] = {**feat[\"properties\"], **prods}\n",
    "\n",
    "    return feat"
   ]
  },
  {
   "cell_type": "code",
   "execution_count": 403,
   "metadata": {
    "collapsed": false
   },
   "outputs": [
    {
     "name": "stderr",
     "output_type": "stream",
     "text": [
      "3413 of 3414"
     ]
    }
   ],
   "source": [
    "#Create GeoJSON\n",
    "features = []\n",
    "total = len(gdf[gdf.netStat])\n",
    "cnt = 0;\n",
    "for idx,row in gdf[gdf.netStat].iterrows():\n",
    "    r = make_geojson(row)\n",
    "    if r:\n",
    "        features.append(r)\n",
    "    sys.stderr.write(\"\\r{0} of {1}\".format(cnt, total))\n",
    "    cnt += 1\n",
    "\n",
    "with open('../docs/data/onNetwork_buildings_sm.geojson','w') as oFile:\n",
    "    json.dump({\"type\":\"FeatureCollection\",\"features\":features},oFile,indent=4)"
   ]
  },
  {
   "cell_type": "code",
   "execution_count": 404,
   "metadata": {
    "collapsed": false
   },
   "outputs": [
    {
     "name": "stderr",
     "output_type": "stream",
     "text": [
      "13794 of 13795"
     ]
    }
   ],
   "source": [
    "#Create GeoJSON\n",
    "features = []\n",
    "total = len(gdf[~gdf.netStat])\n",
    "cnt = 0;\n",
    "for idx,row in gdf[~gdf.netStat].iterrows():\n",
    "    r = make_geojson(row)\n",
    "    if r:\n",
    "        features.append(r)\n",
    "    sys.stderr.write(\"\\r{0} of {1}\".format(cnt, total))\n",
    "    cnt += 1\n",
    "\n",
    "with open('../docs/data/offNetwork_buildings_sm.geojson','w') as oFile:\n",
    "    json.dump({\"type\":\"FeatureCollection\",\"features\":features},oFile,indent=4)"
   ]
  },
  {
   "cell_type": "code",
   "execution_count": null,
   "metadata": {
    "collapsed": true
   },
   "outputs": [],
   "source": []
  }
 ],
 "metadata": {
  "kernelspec": {
   "display_name": "Python 3",
   "language": "python",
   "name": "python3"
  },
  "language_info": {
   "codemirror_mode": {
    "name": "ipython",
    "version": 3
   },
   "file_extension": ".py",
   "mimetype": "text/x-python",
   "name": "python",
   "nbconvert_exporter": "python",
   "pygments_lexer": "ipython3",
   "version": "3.5.1"
  }
 },
 "nbformat": 4,
 "nbformat_minor": 0
}
