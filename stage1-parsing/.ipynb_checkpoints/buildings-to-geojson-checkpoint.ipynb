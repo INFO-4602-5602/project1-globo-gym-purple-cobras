{
 "cells": [
  {
   "cell_type": "code",
   "execution_count": 41,
   "metadata": {
    "collapsed": false
   },
   "outputs": [],
   "source": [
    "import pandas as pd; import numpy as np; from shapely import geometry; import geopandas as gpd\n",
    "import json\n",
    "%matplotlib inline"
   ]
  },
  {
   "cell_type": "markdown",
   "metadata": {},
   "source": [
    "# Breaking everything down to Buildings"
   ]
  },
  {
   "cell_type": "code",
   "execution_count": 238,
   "metadata": {
    "collapsed": false
   },
   "outputs": [],
   "source": [
    "buildings = pd.read_csv('../raw_data/ZayoHackathonData_Buildings.csv')\n",
    "sites     = pd.read_csv('../raw_data/ZayoHackathonData_Sites.csv')\n",
    "accounts  = pd.read_csv('../raw_data/ZayoHackathonData_Accounts.csv')\n",
    "opportunities = pd.read_csv('../raw_data/ZayoHackathonData_Opportunities.csv')"
   ]
  },
  {
   "cell_type": "code",
   "execution_count": 323,
   "metadata": {
    "collapsed": false
   },
   "outputs": [
    {
     "name": "stdout",
     "output_type": "stream",
     "text": [
      "Index(['Building ID', 'Market', 'Street Address', 'City', 'State',\n",
      "       'Postal Code', 'Latitude', 'Longitude', 'On Zayo Network Status',\n",
      "       'Net Classification', 'Type', 'Network Proximity',\n",
      "       ' Estimated Build Cost ', 'est_cost'],\n",
      "      dtype='object')\n"
     ]
    },
    {
     "data": {
      "text/html": [
       "<div>\n",
       "<table border=\"1\" class=\"dataframe\">\n",
       "  <thead>\n",
       "    <tr style=\"text-align: right;\">\n",
       "      <th></th>\n",
       "      <th>Building ID</th>\n",
       "      <th>Market</th>\n",
       "      <th>Street Address</th>\n",
       "      <th>City</th>\n",
       "      <th>State</th>\n",
       "      <th>Postal Code</th>\n",
       "      <th>Latitude</th>\n",
       "      <th>Longitude</th>\n",
       "      <th>On Zayo Network Status</th>\n",
       "      <th>Net Classification</th>\n",
       "      <th>Type</th>\n",
       "      <th>Network Proximity</th>\n",
       "      <th>Estimated Build Cost</th>\n",
       "      <th>est_cost</th>\n",
       "    </tr>\n",
       "  </thead>\n",
       "  <tbody>\n",
       "    <tr>\n",
       "      <th>0</th>\n",
       "      <td>Bldg-115472</td>\n",
       "      <td>Atlanta</td>\n",
       "      <td>953 Donnelly Ave SW</td>\n",
       "      <td>Atlanta</td>\n",
       "      <td>GA</td>\n",
       "      <td>30310</td>\n",
       "      <td>33.728521</td>\n",
       "      <td>-84.418751</td>\n",
       "      <td>Not on Zayo Network</td>\n",
       "      <td>Fiber Only</td>\n",
       "      <td>Office - Multi Tenant</td>\n",
       "      <td>116.91</td>\n",
       "      <td>$13,507.30</td>\n",
       "      <td>13507.3</td>\n",
       "    </tr>\n",
       "  </tbody>\n",
       "</table>\n",
       "</div>"
      ],
      "text/plain": [
       "   Building ID   Market       Street Address     City State Postal Code  \\\n",
       "0  Bldg-115472  Atlanta  953 Donnelly Ave SW  Atlanta    GA       30310   \n",
       "\n",
       "    Latitude  Longitude On Zayo Network Status Net Classification  \\\n",
       "0  33.728521 -84.418751    Not on Zayo Network         Fiber Only   \n",
       "\n",
       "                    Type  Network Proximity  Estimated Build Cost   est_cost  \n",
       "0  Office - Multi Tenant             116.91            $13,507.30    13507.3  "
      ]
     },
     "execution_count": 323,
     "metadata": {},
     "output_type": "execute_result"
    }
   ],
   "source": [
    "print(buildings.columns)\n",
    "buildings.head(1)"
   ]
  },
  {
   "cell_type": "code",
   "execution_count": 324,
   "metadata": {
    "collapsed": false
   },
   "outputs": [],
   "source": [
    "buildings['est_cost'] = buildings[' Estimated Build Cost '].replace('[\\$,)]','', regex=True ).astype(float)"
   ]
  },
  {
   "cell_type": "code",
   "execution_count": 325,
   "metadata": {
    "collapsed": false
   },
   "outputs": [
    {
     "data": {
      "text/html": [
       "<div>\n",
       "<table border=\"1\" class=\"dataframe\">\n",
       "  <thead>\n",
       "    <tr style=\"text-align: right;\">\n",
       "      <th></th>\n",
       "      <th>Building ID</th>\n",
       "      <th>Market</th>\n",
       "      <th>Street Address</th>\n",
       "      <th>City</th>\n",
       "      <th>State</th>\n",
       "      <th>Postal Code</th>\n",
       "      <th>Latitude</th>\n",
       "      <th>Longitude</th>\n",
       "      <th>On Zayo Network Status</th>\n",
       "      <th>Net Classification</th>\n",
       "      <th>Type</th>\n",
       "      <th>Network Proximity</th>\n",
       "      <th>Estimated Build Cost</th>\n",
       "      <th>est_cost</th>\n",
       "    </tr>\n",
       "  </thead>\n",
       "  <tbody>\n",
       "    <tr>\n",
       "      <th>0</th>\n",
       "      <td>Bldg-115472</td>\n",
       "      <td>Atlanta</td>\n",
       "      <td>953 Donnelly Ave SW</td>\n",
       "      <td>Atlanta</td>\n",
       "      <td>GA</td>\n",
       "      <td>30310</td>\n",
       "      <td>33.728521</td>\n",
       "      <td>-84.418751</td>\n",
       "      <td>Not on Zayo Network</td>\n",
       "      <td>Fiber Only</td>\n",
       "      <td>Office - Multi Tenant</td>\n",
       "      <td>116.91</td>\n",
       "      <td>$13,507.30</td>\n",
       "      <td>13507.30</td>\n",
       "    </tr>\n",
       "    <tr>\n",
       "      <th>1</th>\n",
       "      <td>Bldg-115473</td>\n",
       "      <td>Atlanta</td>\n",
       "      <td>555 Old Norcross Rd</td>\n",
       "      <td>Lawrenceville</td>\n",
       "      <td>GA</td>\n",
       "      <td>30046</td>\n",
       "      <td>33.946700</td>\n",
       "      <td>-83.995000</td>\n",
       "      <td>Not on Zayo Network</td>\n",
       "      <td>Fiber Only</td>\n",
       "      <td>Office - Multi Tenant</td>\n",
       "      <td>28323.03</td>\n",
       "      <td>$689,752.72</td>\n",
       "      <td>689752.72</td>\n",
       "    </tr>\n",
       "    <tr>\n",
       "      <th>2</th>\n",
       "      <td>Bldg-115475</td>\n",
       "      <td>Atlanta</td>\n",
       "      <td>3159 Royal Dr</td>\n",
       "      <td>Alpharetta</td>\n",
       "      <td>GA</td>\n",
       "      <td>30005</td>\n",
       "      <td>34.056608</td>\n",
       "      <td>-84.265246</td>\n",
       "      <td>On Zayo Network</td>\n",
       "      <td>Fiber Only</td>\n",
       "      <td>Office - Multi Tenant</td>\n",
       "      <td>979.44</td>\n",
       "      <td>$33,506.56</td>\n",
       "      <td>33506.56</td>\n",
       "    </tr>\n",
       "  </tbody>\n",
       "</table>\n",
       "</div>"
      ],
      "text/plain": [
       "   Building ID   Market       Street Address           City State Postal Code  \\\n",
       "0  Bldg-115472  Atlanta  953 Donnelly Ave SW        Atlanta    GA       30310   \n",
       "1  Bldg-115473  Atlanta  555 Old Norcross Rd  Lawrenceville    GA       30046   \n",
       "2  Bldg-115475  Atlanta        3159 Royal Dr     Alpharetta    GA       30005   \n",
       "\n",
       "    Latitude  Longitude On Zayo Network Status Net Classification  \\\n",
       "0  33.728521 -84.418751    Not on Zayo Network         Fiber Only   \n",
       "1  33.946700 -83.995000    Not on Zayo Network         Fiber Only   \n",
       "2  34.056608 -84.265246        On Zayo Network         Fiber Only   \n",
       "\n",
       "                    Type  Network Proximity  Estimated Build Cost    est_cost  \n",
       "0  Office - Multi Tenant             116.91            $13,507.30    13507.30  \n",
       "1  Office - Multi Tenant           28323.03           $689,752.72   689752.72  \n",
       "2  Office - Multi Tenant             979.44            $33,506.56    33506.56  "
      ]
     },
     "execution_count": 325,
     "metadata": {},
     "output_type": "execute_result"
    }
   ],
   "source": [
    "buildings.head(3)"
   ]
  },
  {
   "cell_type": "code",
   "execution_count": 326,
   "metadata": {
    "collapsed": false
   },
   "outputs": [
    {
     "data": {
      "text/html": [
       "<div>\n",
       "<table border=\"1\" class=\"dataframe\">\n",
       "  <thead>\n",
       "    <tr style=\"text-align: right;\">\n",
       "      <th></th>\n",
       "      <th>Site ID</th>\n",
       "      <th>Account ID</th>\n",
       "      <th>Building ID</th>\n",
       "      <th>Market</th>\n",
       "      <th>Site Address</th>\n",
       "      <th>City</th>\n",
       "      <th>State</th>\n",
       "      <th>Postal Code</th>\n",
       "      <th>Network Proximity</th>\n",
       "      <th>On Zayo Network Status</th>\n",
       "    </tr>\n",
       "  </thead>\n",
       "  <tbody>\n",
       "    <tr>\n",
       "      <th>0</th>\n",
       "      <td>Site-000001</td>\n",
       "      <td>Acct-000025</td>\n",
       "      <td>Bldg-115472</td>\n",
       "      <td>Atlanta</td>\n",
       "      <td>953 Donnelly Ave SW</td>\n",
       "      <td>Atlanta</td>\n",
       "      <td>GA</td>\n",
       "      <td>30310</td>\n",
       "      <td>116.91</td>\n",
       "      <td>Not on Zayo Network</td>\n",
       "    </tr>\n",
       "  </tbody>\n",
       "</table>\n",
       "</div>"
      ],
      "text/plain": [
       "       Site ID   Account ID  Building ID   Market         Site Address  \\\n",
       "0  Site-000001  Acct-000025  Bldg-115472  Atlanta  953 Donnelly Ave SW   \n",
       "\n",
       "      City State Postal Code  Network Proximity On Zayo Network Status  \n",
       "0  Atlanta    GA       30310             116.91    Not on Zayo Network  "
      ]
     },
     "execution_count": 326,
     "metadata": {},
     "output_type": "execute_result"
    }
   ],
   "source": [
    "sites.head(1)"
   ]
  },
  {
   "cell_type": "code",
   "execution_count": 327,
   "metadata": {
    "collapsed": false
   },
   "outputs": [
    {
     "data": {
      "text/html": [
       "<div>\n",
       "<table border=\"1\" class=\"dataframe\">\n",
       "  <thead>\n",
       "    <tr style=\"text-align: right;\">\n",
       "      <th></th>\n",
       "      <th>Account ID</th>\n",
       "      <th>Industry</th>\n",
       "      <th>Vertical</th>\n",
       "      <th>Total BRR</th>\n",
       "      <th>AnnualRevenue</th>\n",
       "      <th>NumberOfEmployees</th>\n",
       "      <th>DandB Revenue</th>\n",
       "      <th>DandB Total Employees</th>\n",
       "    </tr>\n",
       "  </thead>\n",
       "  <tbody>\n",
       "    <tr>\n",
       "      <th>0</th>\n",
       "      <td>Acct-000273</td>\n",
       "      <td>Telecommunications</td>\n",
       "      <td>Wireless</td>\n",
       "      <td>$6,084,906.00</td>\n",
       "      <td>$248,747,365.62</td>\n",
       "      <td>397</td>\n",
       "      <td>$356,943,618.45</td>\n",
       "      <td>397</td>\n",
       "    </tr>\n",
       "  </tbody>\n",
       "</table>\n",
       "</div>"
      ],
      "text/plain": [
       "    Account ID            Industry  Vertical       Total BRR   \\\n",
       "0  Acct-000273  Telecommunications  Wireless   $6,084,906.00    \n",
       "\n",
       "      AnnualRevenue   NumberOfEmployees     DandB Revenue   \\\n",
       "0   $248,747,365.62                 397   $356,943,618.45    \n",
       "\n",
       "   DandB Total Employees  \n",
       "0                    397  "
      ]
     },
     "execution_count": 327,
     "metadata": {},
     "output_type": "execute_result"
    }
   ],
   "source": [
    "accounts.head(1)"
   ]
  },
  {
   "cell_type": "code",
   "execution_count": 243,
   "metadata": {
    "collapsed": false,
    "scrolled": true
   },
   "outputs": [
    {
     "data": {
      "text/html": [
       "<div>\n",
       "<table border=\"1\" class=\"dataframe\">\n",
       "  <thead>\n",
       "    <tr style=\"text-align: right;\">\n",
       "      <th></th>\n",
       "      <th>Opportunity ID</th>\n",
       "      <th>Account ID</th>\n",
       "      <th>StageName</th>\n",
       "      <th>IsClosed</th>\n",
       "      <th>IsWon</th>\n",
       "      <th>CreatedDate</th>\n",
       "      <th>Term in Months</th>\n",
       "      <th>Service</th>\n",
       "      <th>Opportunity Type</th>\n",
       "      <th>Product Group</th>\n",
       "      <th>Building ID</th>\n",
       "      <th>Market</th>\n",
       "      <th>Street Address</th>\n",
       "      <th>City</th>\n",
       "      <th>State</th>\n",
       "      <th>Postal Code</th>\n",
       "      <th>Network Proximity</th>\n",
       "      <th>On Zayo Network Status</th>\n",
       "    </tr>\n",
       "  </thead>\n",
       "  <tbody>\n",
       "    <tr>\n",
       "      <th>0</th>\n",
       "      <td>Opp-000001</td>\n",
       "      <td>Acct-000007</td>\n",
       "      <td>Closed - Lost</td>\n",
       "      <td>True</td>\n",
       "      <td>False</td>\n",
       "      <td>7/1/16</td>\n",
       "      <td>12.0</td>\n",
       "      <td>NaN</td>\n",
       "      <td>New Service</td>\n",
       "      <td>Ethernet</td>\n",
       "      <td>Bldg-012582</td>\n",
       "      <td>Atlanta</td>\n",
       "      <td>56 Marietta St NW</td>\n",
       "      <td>Atlanta</td>\n",
       "      <td>GA</td>\n",
       "      <td>30303</td>\n",
       "      <td>66.45</td>\n",
       "      <td>On Zayo Network</td>\n",
       "    </tr>\n",
       "  </tbody>\n",
       "</table>\n",
       "</div>"
      ],
      "text/plain": [
       "  Opportunity ID   Account ID      StageName IsClosed  IsWon CreatedDate  \\\n",
       "0     Opp-000001  Acct-000007  Closed - Lost     True  False      7/1/16   \n",
       "\n",
       "   Term in Months Service Opportunity Type Product Group  Building ID  \\\n",
       "0            12.0     NaN      New Service      Ethernet  Bldg-012582   \n",
       "\n",
       "    Market     Street Address     City State  Postal Code  Network Proximity  \\\n",
       "0  Atlanta  56 Marietta St NW  Atlanta    GA        30303              66.45   \n",
       "\n",
       "  On Zayo Network Status  \n",
       "0        On Zayo Network  "
      ]
     },
     "execution_count": 243,
     "metadata": {},
     "output_type": "execute_result"
    }
   ],
   "source": [
    "opportunities.head(1)"
   ]
  },
  {
   "cell_type": "code",
   "execution_count": 47,
   "metadata": {
    "collapsed": false
   },
   "outputs": [],
   "source": [
    "df = accounts.merge(sites,on=\"Account ID\")"
   ]
  },
  {
   "cell_type": "code",
   "execution_count": 52,
   "metadata": {
    "collapsed": false
   },
   "outputs": [
    {
     "data": {
      "text/html": [
       "<div>\n",
       "<table border=\"1\" class=\"dataframe\">\n",
       "  <thead>\n",
       "    <tr style=\"text-align: right;\">\n",
       "      <th></th>\n",
       "      <th>Account ID</th>\n",
       "      <th>Industry</th>\n",
       "      <th>Vertical</th>\n",
       "      <th>Total BRR</th>\n",
       "      <th>AnnualRevenue</th>\n",
       "      <th>NumberOfEmployees</th>\n",
       "      <th>DandB Revenue</th>\n",
       "      <th>DandB Total Employees</th>\n",
       "      <th>Site ID</th>\n",
       "      <th>Building ID</th>\n",
       "      <th>Market</th>\n",
       "      <th>Site Address</th>\n",
       "      <th>City</th>\n",
       "      <th>State</th>\n",
       "      <th>Postal Code</th>\n",
       "      <th>Network Proximity</th>\n",
       "      <th>On Zayo Network Status</th>\n",
       "    </tr>\n",
       "  </thead>\n",
       "  <tbody>\n",
       "    <tr>\n",
       "      <th>0</th>\n",
       "      <td>Acct-000273</td>\n",
       "      <td>Telecommunications</td>\n",
       "      <td>Wireless</td>\n",
       "      <td>$6,084,906.00</td>\n",
       "      <td>$248,747,365.62</td>\n",
       "      <td>397</td>\n",
       "      <td>$356,943,618.45</td>\n",
       "      <td>397</td>\n",
       "      <td>Site-000061</td>\n",
       "      <td>Bldg-115571</td>\n",
       "      <td>Atlanta</td>\n",
       "      <td>1720 Peachtree St NW</td>\n",
       "      <td>Atlanta</td>\n",
       "      <td>GA</td>\n",
       "      <td>30309</td>\n",
       "      <td>198.92</td>\n",
       "      <td>On Zayo Network</td>\n",
       "    </tr>\n",
       "  </tbody>\n",
       "</table>\n",
       "</div>"
      ],
      "text/plain": [
       "    Account ID            Industry  Vertical       Total BRR   \\\n",
       "0  Acct-000273  Telecommunications  Wireless   $6,084,906.00    \n",
       "\n",
       "      AnnualRevenue   NumberOfEmployees     DandB Revenue   \\\n",
       "0   $248,747,365.62                 397   $356,943,618.45    \n",
       "\n",
       "   DandB Total Employees      Site ID  Building ID   Market  \\\n",
       "0                    397  Site-000061  Bldg-115571  Atlanta   \n",
       "\n",
       "           Site Address     City State Postal Code  Network Proximity  \\\n",
       "0  1720 Peachtree St NW  Atlanta    GA       30309             198.92   \n",
       "\n",
       "  On Zayo Network Status  \n",
       "0        On Zayo Network  "
      ]
     },
     "execution_count": 52,
     "metadata": {},
     "output_type": "execute_result"
    }
   ],
   "source": [
    "d2.head(1)"
   ]
  },
  {
   "cell_type": "code",
   "execution_count": 53,
   "metadata": {
    "collapsed": true
   },
   "outputs": [],
   "source": [
    "df2 = df.merge(buildings, on=\"Building ID\")"
   ]
  },
  {
   "cell_type": "code",
   "execution_count": 104,
   "metadata": {
    "collapsed": false
   },
   "outputs": [
    {
     "data": {
      "text/html": [
       "<div>\n",
       "<table border=\"1\" class=\"dataframe\">\n",
       "  <thead>\n",
       "    <tr style=\"text-align: right;\">\n",
       "      <th></th>\n",
       "      <th>Account ID</th>\n",
       "      <th>Industry</th>\n",
       "      <th>Vertical</th>\n",
       "      <th>Total BRR</th>\n",
       "      <th>AnnualRevenue</th>\n",
       "      <th>NumberOfEmployees</th>\n",
       "      <th>DandB Revenue</th>\n",
       "      <th>DandB Total Employees</th>\n",
       "      <th>Site ID</th>\n",
       "      <th>Building ID</th>\n",
       "      <th>...</th>\n",
       "      <th>City_y</th>\n",
       "      <th>State_y</th>\n",
       "      <th>Postal Code_y</th>\n",
       "      <th>Latitude</th>\n",
       "      <th>Longitude</th>\n",
       "      <th>On Zayo Network Status_y</th>\n",
       "      <th>Net Classification</th>\n",
       "      <th>Type</th>\n",
       "      <th>Network Proximity_y</th>\n",
       "      <th>Estimated Build Cost</th>\n",
       "    </tr>\n",
       "  </thead>\n",
       "  <tbody>\n",
       "    <tr>\n",
       "      <th>0</th>\n",
       "      <td>Acct-000273</td>\n",
       "      <td>Telecommunications</td>\n",
       "      <td>Wireless</td>\n",
       "      <td>$6,084,906.00</td>\n",
       "      <td>$248,747,365.62</td>\n",
       "      <td>397</td>\n",
       "      <td>$356,943,618.45</td>\n",
       "      <td>397</td>\n",
       "      <td>Site-000061</td>\n",
       "      <td>Bldg-115571</td>\n",
       "      <td>...</td>\n",
       "      <td>Atlanta</td>\n",
       "      <td>GA</td>\n",
       "      <td>30309</td>\n",
       "      <td>33.800922</td>\n",
       "      <td>-84.393502</td>\n",
       "      <td>On Zayo Network</td>\n",
       "      <td>Fiber Only</td>\n",
       "      <td>Office - Multi Tenant</td>\n",
       "      <td>198.92</td>\n",
       "      <td>$15,967.60</td>\n",
       "    </tr>\n",
       "  </tbody>\n",
       "</table>\n",
       "<p>1 rows × 29 columns</p>\n",
       "</div>"
      ],
      "text/plain": [
       "    Account ID            Industry  Vertical       Total BRR   \\\n",
       "0  Acct-000273  Telecommunications  Wireless   $6,084,906.00    \n",
       "\n",
       "      AnnualRevenue   NumberOfEmployees     DandB Revenue   \\\n",
       "0   $248,747,365.62                 397   $356,943,618.45    \n",
       "\n",
       "   DandB Total Employees      Site ID  Building ID          ...            \\\n",
       "0                    397  Site-000061  Bldg-115571          ...             \n",
       "\n",
       "    City_y State_y Postal Code_y   Latitude  Longitude  \\\n",
       "0  Atlanta      GA         30309  33.800922 -84.393502   \n",
       "\n",
       "   On Zayo Network Status_y Net Classification                   Type  \\\n",
       "0           On Zayo Network         Fiber Only  Office - Multi Tenant   \n",
       "\n",
       "  Network Proximity_y  Estimated Build Cost   \n",
       "0              198.92            $15,967.60   \n",
       "\n",
       "[1 rows x 29 columns]"
      ]
     },
     "execution_count": 104,
     "metadata": {},
     "output_type": "execute_result"
    }
   ],
   "source": [
    "df2.head(1)"
   ]
  },
  {
   "cell_type": "code",
   "execution_count": 58,
   "metadata": {
    "collapsed": false
   },
   "outputs": [
    {
     "data": {
      "text/plain": [
       "Index(['Account ID', 'Industry', 'Vertical', ' Total BRR ', ' AnnualRevenue ',\n",
       "       'NumberOfEmployees', ' DandB Revenue ', 'DandB Total Employees',\n",
       "       'Site ID', 'Building ID', 'Market_x', 'Site Address', 'City_x',\n",
       "       'State_x', 'Postal Code_x', 'Network Proximity_x',\n",
       "       'On Zayo Network Status_x', 'Market_y', 'Street Address', 'City_y',\n",
       "       'State_y', 'Postal Code_y', 'Latitude', 'Longitude',\n",
       "       'On Zayo Network Status_y', 'Net Classification', 'Type',\n",
       "       'Network Proximity_y', ' Estimated Build Cost '],\n",
       "      dtype='object')"
      ]
     },
     "execution_count": 58,
     "metadata": {},
     "output_type": "execute_result"
    }
   ],
   "source": [
    "df2.head(2).columns"
   ]
  },
  {
   "cell_type": "code",
   "execution_count": 257,
   "metadata": {
    "collapsed": false
   },
   "outputs": [
    {
     "data": {
      "text/html": [
       "<div>\n",
       "<table border=\"1\" class=\"dataframe\">\n",
       "  <thead>\n",
       "    <tr style=\"text-align: right;\">\n",
       "      <th></th>\n",
       "      <th>Opportunity ID</th>\n",
       "      <th>Account ID</th>\n",
       "      <th>StageName</th>\n",
       "      <th>IsClosed</th>\n",
       "      <th>IsWon</th>\n",
       "      <th>CreatedDate</th>\n",
       "      <th>Term in Months</th>\n",
       "      <th>Service</th>\n",
       "      <th>Opportunity Type</th>\n",
       "      <th>Product Group</th>\n",
       "      <th>Building ID</th>\n",
       "      <th>Market</th>\n",
       "      <th>Street Address</th>\n",
       "      <th>City</th>\n",
       "      <th>State</th>\n",
       "      <th>Postal Code</th>\n",
       "      <th>Network Proximity</th>\n",
       "      <th>On Zayo Network Status</th>\n",
       "    </tr>\n",
       "  </thead>\n",
       "  <tbody>\n",
       "    <tr>\n",
       "      <th>0</th>\n",
       "      <td>Opp-000001</td>\n",
       "      <td>Acct-000007</td>\n",
       "      <td>Closed - Lost</td>\n",
       "      <td>True</td>\n",
       "      <td>False</td>\n",
       "      <td>7/1/16</td>\n",
       "      <td>12.0</td>\n",
       "      <td>NaN</td>\n",
       "      <td>New Service</td>\n",
       "      <td>Ethernet</td>\n",
       "      <td>Bldg-012582</td>\n",
       "      <td>Atlanta</td>\n",
       "      <td>56 Marietta St NW</td>\n",
       "      <td>Atlanta</td>\n",
       "      <td>GA</td>\n",
       "      <td>30303</td>\n",
       "      <td>66.45</td>\n",
       "      <td>On Zayo Network</td>\n",
       "    </tr>\n",
       "    <tr>\n",
       "      <th>1</th>\n",
       "      <td>Opp-000002</td>\n",
       "      <td>Acct-000986</td>\n",
       "      <td>5 - Accepted</td>\n",
       "      <td>True</td>\n",
       "      <td>True</td>\n",
       "      <td>7/1/16</td>\n",
       "      <td>60.0</td>\n",
       "      <td>NaN</td>\n",
       "      <td>New Service</td>\n",
       "      <td>Dark Fiber - Metro</td>\n",
       "      <td>Bldg-016855</td>\n",
       "      <td>Atlanta</td>\n",
       "      <td>300 Satellite Blvd NW</td>\n",
       "      <td>Suwanee</td>\n",
       "      <td>GA</td>\n",
       "      <td>30024</td>\n",
       "      <td>374.79</td>\n",
       "      <td>On Zayo Network</td>\n",
       "    </tr>\n",
       "  </tbody>\n",
       "</table>\n",
       "</div>"
      ],
      "text/plain": [
       "  Opportunity ID   Account ID      StageName IsClosed  IsWon CreatedDate  \\\n",
       "0     Opp-000001  Acct-000007  Closed - Lost     True  False      7/1/16   \n",
       "1     Opp-000002  Acct-000986   5 - Accepted     True   True      7/1/16   \n",
       "\n",
       "   Term in Months Service Opportunity Type       Product Group  Building ID  \\\n",
       "0            12.0     NaN      New Service            Ethernet  Bldg-012582   \n",
       "1            60.0     NaN      New Service  Dark Fiber - Metro  Bldg-016855   \n",
       "\n",
       "    Market         Street Address     City State  Postal Code  \\\n",
       "0  Atlanta      56 Marietta St NW  Atlanta    GA        30303   \n",
       "1  Atlanta  300 Satellite Blvd NW  Suwanee    GA        30024   \n",
       "\n",
       "   Network Proximity On Zayo Network Status  \n",
       "0              66.45        On Zayo Network  \n",
       "1             374.79        On Zayo Network  "
      ]
     },
     "execution_count": 257,
     "metadata": {},
     "output_type": "execute_result"
    }
   ],
   "source": [
    "opportunities.head(2)"
   ]
  },
  {
   "cell_type": "code",
   "execution_count": 220,
   "metadata": {
    "collapsed": false
   },
   "outputs": [],
   "source": [
    "x = df2.groupby(\"Building ID\").agg({\n",
    "        \"Latitude\"  : {'lat': lambda x: x.values[0]},\n",
    "        \"Longitude\" : {'lon': lambda x: x.values[0]},\n",
    "        \"Account ID\": {\"Number Accounts\": pd.Series.nunique},\n",
    "        \"est_cost\"  : sum\n",
    "        \"Site ID\" : {\"Number Sites\" : pd.Series.nunique},\n",
    "        \"On Zayo Network Status_y\": {\n",
    "            \"netStat\" : lambda x: x.values[0]=='On Zayo Network'}\n",
    "    })\n",
    "x.columns = x.columns.get_level_values(1)"
   ]
  },
  {
   "cell_type": "code",
   "execution_count": 307,
   "metadata": {
    "collapsed": false
   },
   "outputs": [],
   "source": [
    "opp_count = pd.DataFrame(opportunities.query('StageName!=\"Closed - Lost\"')['Building ID'].value_counts())"
   ]
  },
  {
   "cell_type": "code",
   "execution_count": 308,
   "metadata": {
    "collapsed": false
   },
   "outputs": [
    {
     "data": {
      "text/html": [
       "<div>\n",
       "<table border=\"1\" class=\"dataframe\">\n",
       "  <thead>\n",
       "    <tr style=\"text-align: right;\">\n",
       "      <th></th>\n",
       "      <th>Building ID</th>\n",
       "    </tr>\n",
       "  </thead>\n",
       "  <tbody>\n",
       "    <tr>\n",
       "      <th>Bldg-014866</th>\n",
       "      <td>417</td>\n",
       "    </tr>\n",
       "    <tr>\n",
       "      <th>Bldg-012582</th>\n",
       "      <td>175</td>\n",
       "    </tr>\n",
       "    <tr>\n",
       "      <th>Bldg-017035</th>\n",
       "      <td>148</td>\n",
       "    </tr>\n",
       "    <tr>\n",
       "      <th>Bldg-065056</th>\n",
       "      <td>94</td>\n",
       "    </tr>\n",
       "    <tr>\n",
       "      <th>Bldg-127057</th>\n",
       "      <td>76</td>\n",
       "    </tr>\n",
       "    <tr>\n",
       "      <th>Bldg-111681</th>\n",
       "      <td>70</td>\n",
       "    </tr>\n",
       "    <tr>\n",
       "      <th>Bldg-016856</th>\n",
       "      <td>55</td>\n",
       "    </tr>\n",
       "    <tr>\n",
       "      <th>Bldg-038071</th>\n",
       "      <td>51</td>\n",
       "    </tr>\n",
       "    <tr>\n",
       "      <th>Bldg-018754</th>\n",
       "      <td>49</td>\n",
       "    </tr>\n",
       "    <tr>\n",
       "      <th>Bldg-030642</th>\n",
       "      <td>48</td>\n",
       "    </tr>\n",
       "    <tr>\n",
       "      <th>Bldg-137677</th>\n",
       "      <td>47</td>\n",
       "    </tr>\n",
       "    <tr>\n",
       "      <th>Bldg-014142</th>\n",
       "      <td>46</td>\n",
       "    </tr>\n",
       "    <tr>\n",
       "      <th>Bldg-058803</th>\n",
       "      <td>39</td>\n",
       "    </tr>\n",
       "    <tr>\n",
       "      <th>Bldg-015169</th>\n",
       "      <td>35</td>\n",
       "    </tr>\n",
       "    <tr>\n",
       "      <th>Bldg-016855</th>\n",
       "      <td>34</td>\n",
       "    </tr>\n",
       "    <tr>\n",
       "      <th>Bldg-014141</th>\n",
       "      <td>33</td>\n",
       "    </tr>\n",
       "    <tr>\n",
       "      <th>Bldg-038523</th>\n",
       "      <td>33</td>\n",
       "    </tr>\n",
       "    <tr>\n",
       "      <th>Bldg-078151</th>\n",
       "      <td>29</td>\n",
       "    </tr>\n",
       "    <tr>\n",
       "      <th>Bldg-108671</th>\n",
       "      <td>27</td>\n",
       "    </tr>\n",
       "    <tr>\n",
       "      <th>Bldg-133709</th>\n",
       "      <td>23</td>\n",
       "    </tr>\n",
       "    <tr>\n",
       "      <th>Bldg-014864</th>\n",
       "      <td>23</td>\n",
       "    </tr>\n",
       "    <tr>\n",
       "      <th>Bldg-015161</th>\n",
       "      <td>21</td>\n",
       "    </tr>\n",
       "    <tr>\n",
       "      <th>Bldg-136936</th>\n",
       "      <td>19</td>\n",
       "    </tr>\n",
       "    <tr>\n",
       "      <th>Bldg-027193</th>\n",
       "      <td>19</td>\n",
       "    </tr>\n",
       "    <tr>\n",
       "      <th>Bldg-118217</th>\n",
       "      <td>18</td>\n",
       "    </tr>\n",
       "    <tr>\n",
       "      <th>Bldg-014640</th>\n",
       "      <td>18</td>\n",
       "    </tr>\n",
       "    <tr>\n",
       "      <th>Bldg-126879</th>\n",
       "      <td>17</td>\n",
       "    </tr>\n",
       "    <tr>\n",
       "      <th>Bldg-117716</th>\n",
       "      <td>17</td>\n",
       "    </tr>\n",
       "    <tr>\n",
       "      <th>Bldg-090300</th>\n",
       "      <td>17</td>\n",
       "    </tr>\n",
       "    <tr>\n",
       "      <th>Bldg-109799</th>\n",
       "      <td>17</td>\n",
       "    </tr>\n",
       "    <tr>\n",
       "      <th>...</th>\n",
       "      <td>...</td>\n",
       "    </tr>\n",
       "    <tr>\n",
       "      <th>Bldg-119697</th>\n",
       "      <td>1</td>\n",
       "    </tr>\n",
       "    <tr>\n",
       "      <th>Bldg-091930</th>\n",
       "      <td>1</td>\n",
       "    </tr>\n",
       "    <tr>\n",
       "      <th>Bldg-237788</th>\n",
       "      <td>1</td>\n",
       "    </tr>\n",
       "    <tr>\n",
       "      <th>Bldg-091974</th>\n",
       "      <td>1</td>\n",
       "    </tr>\n",
       "    <tr>\n",
       "      <th>Bldg-493983</th>\n",
       "      <td>1</td>\n",
       "    </tr>\n",
       "    <tr>\n",
       "      <th>Bldg-438259</th>\n",
       "      <td>1</td>\n",
       "    </tr>\n",
       "    <tr>\n",
       "      <th>Bldg-511594</th>\n",
       "      <td>1</td>\n",
       "    </tr>\n",
       "    <tr>\n",
       "      <th>Bldg-403798</th>\n",
       "      <td>1</td>\n",
       "    </tr>\n",
       "    <tr>\n",
       "      <th>Bldg-038186</th>\n",
       "      <td>1</td>\n",
       "    </tr>\n",
       "    <tr>\n",
       "      <th>Bldg-511640</th>\n",
       "      <td>1</td>\n",
       "    </tr>\n",
       "    <tr>\n",
       "      <th>Bldg-237786</th>\n",
       "      <td>1</td>\n",
       "    </tr>\n",
       "    <tr>\n",
       "      <th>Bldg-512462</th>\n",
       "      <td>1</td>\n",
       "    </tr>\n",
       "    <tr>\n",
       "      <th>Bldg-511603</th>\n",
       "      <td>1</td>\n",
       "    </tr>\n",
       "    <tr>\n",
       "      <th>Bldg-271235</th>\n",
       "      <td>1</td>\n",
       "    </tr>\n",
       "    <tr>\n",
       "      <th>Bldg-091965</th>\n",
       "      <td>1</td>\n",
       "    </tr>\n",
       "    <tr>\n",
       "      <th>Bldg-224888</th>\n",
       "      <td>1</td>\n",
       "    </tr>\n",
       "    <tr>\n",
       "      <th>Bldg-224540</th>\n",
       "      <td>1</td>\n",
       "    </tr>\n",
       "    <tr>\n",
       "      <th>Bldg-137795</th>\n",
       "      <td>1</td>\n",
       "    </tr>\n",
       "    <tr>\n",
       "      <th>Bldg-124645</th>\n",
       "      <td>1</td>\n",
       "    </tr>\n",
       "    <tr>\n",
       "      <th>Bldg-463736</th>\n",
       "      <td>1</td>\n",
       "    </tr>\n",
       "    <tr>\n",
       "      <th>Bldg-513641</th>\n",
       "      <td>1</td>\n",
       "    </tr>\n",
       "    <tr>\n",
       "      <th>Bldg-247838</th>\n",
       "      <td>1</td>\n",
       "    </tr>\n",
       "    <tr>\n",
       "      <th>Bldg-278626</th>\n",
       "      <td>1</td>\n",
       "    </tr>\n",
       "    <tr>\n",
       "      <th>Bldg-120360</th>\n",
       "      <td>1</td>\n",
       "    </tr>\n",
       "    <tr>\n",
       "      <th>Bldg-237812</th>\n",
       "      <td>1</td>\n",
       "    </tr>\n",
       "    <tr>\n",
       "      <th>Bldg-507385</th>\n",
       "      <td>1</td>\n",
       "    </tr>\n",
       "    <tr>\n",
       "      <th>Bldg-270388</th>\n",
       "      <td>1</td>\n",
       "    </tr>\n",
       "    <tr>\n",
       "      <th>Bldg-507740</th>\n",
       "      <td>1</td>\n",
       "    </tr>\n",
       "    <tr>\n",
       "      <th>Bldg-193697</th>\n",
       "      <td>1</td>\n",
       "    </tr>\n",
       "    <tr>\n",
       "      <th>Bldg-111847</th>\n",
       "      <td>1</td>\n",
       "    </tr>\n",
       "  </tbody>\n",
       "</table>\n",
       "<p>1666 rows × 1 columns</p>\n",
       "</div>"
      ],
      "text/plain": [
       "             Building ID\n",
       "Bldg-014866          417\n",
       "Bldg-012582          175\n",
       "Bldg-017035          148\n",
       "Bldg-065056           94\n",
       "Bldg-127057           76\n",
       "Bldg-111681           70\n",
       "Bldg-016856           55\n",
       "Bldg-038071           51\n",
       "Bldg-018754           49\n",
       "Bldg-030642           48\n",
       "Bldg-137677           47\n",
       "Bldg-014142           46\n",
       "Bldg-058803           39\n",
       "Bldg-015169           35\n",
       "Bldg-016855           34\n",
       "Bldg-014141           33\n",
       "Bldg-038523           33\n",
       "Bldg-078151           29\n",
       "Bldg-108671           27\n",
       "Bldg-133709           23\n",
       "Bldg-014864           23\n",
       "Bldg-015161           21\n",
       "Bldg-136936           19\n",
       "Bldg-027193           19\n",
       "Bldg-118217           18\n",
       "Bldg-014640           18\n",
       "Bldg-126879           17\n",
       "Bldg-117716           17\n",
       "Bldg-090300           17\n",
       "Bldg-109799           17\n",
       "...                  ...\n",
       "Bldg-119697            1\n",
       "Bldg-091930            1\n",
       "Bldg-237788            1\n",
       "Bldg-091974            1\n",
       "Bldg-493983            1\n",
       "Bldg-438259            1\n",
       "Bldg-511594            1\n",
       "Bldg-403798            1\n",
       "Bldg-038186            1\n",
       "Bldg-511640            1\n",
       "Bldg-237786            1\n",
       "Bldg-512462            1\n",
       "Bldg-511603            1\n",
       "Bldg-271235            1\n",
       "Bldg-091965            1\n",
       "Bldg-224888            1\n",
       "Bldg-224540            1\n",
       "Bldg-137795            1\n",
       "Bldg-124645            1\n",
       "Bldg-463736            1\n",
       "Bldg-513641            1\n",
       "Bldg-247838            1\n",
       "Bldg-278626            1\n",
       "Bldg-120360            1\n",
       "Bldg-237812            1\n",
       "Bldg-507385            1\n",
       "Bldg-270388            1\n",
       "Bldg-507740            1\n",
       "Bldg-193697            1\n",
       "Bldg-111847            1\n",
       "\n",
       "[1666 rows x 1 columns]"
      ]
     },
     "execution_count": 308,
     "metadata": {},
     "output_type": "execute_result"
    }
   ],
   "source": [
    "opp_count"
   ]
  },
  {
   "cell_type": "code",
   "execution_count": null,
   "metadata": {
    "collapsed": true
   },
   "outputs": [],
   "source": []
  },
  {
   "cell_type": "code",
   "execution_count": 221,
   "metadata": {
    "collapsed": false
   },
   "outputs": [],
   "source": [
    "gdf = gpd.GeoDataFrame(x)\n",
    "gdf.geometry = gdf.apply(lambda row: geometry.Point(row.lon, row.lat), axis=1)"
   ]
  },
  {
   "cell_type": "code",
   "execution_count": 223,
   "metadata": {
    "collapsed": false
   },
   "outputs": [
    {
     "name": "stdout",
     "output_type": "stream",
     "text": [
      "17209\n"
     ]
    },
    {
     "data": {
      "text/html": [
       "<div>\n",
       "<table border=\"1\" class=\"dataframe\">\n",
       "  <thead>\n",
       "    <tr style=\"text-align: right;\">\n",
       "      <th></th>\n",
       "      <th>Number Sites</th>\n",
       "      <th>netStat</th>\n",
       "      <th>Number Accounts</th>\n",
       "      <th>lon</th>\n",
       "      <th>lat</th>\n",
       "      <th>geometry</th>\n",
       "    </tr>\n",
       "    <tr>\n",
       "      <th>Building ID</th>\n",
       "      <th></th>\n",
       "      <th></th>\n",
       "      <th></th>\n",
       "      <th></th>\n",
       "      <th></th>\n",
       "      <th></th>\n",
       "    </tr>\n",
       "  </thead>\n",
       "  <tbody>\n",
       "    <tr>\n",
       "      <th>Bldg-011543</th>\n",
       "      <td>3</td>\n",
       "      <td>True</td>\n",
       "      <td>3</td>\n",
       "      <td>-104.860338</td>\n",
       "      <td>39.598945</td>\n",
       "      <td>POINT (-104.860338 39.598945)</td>\n",
       "    </tr>\n",
       "    <tr>\n",
       "      <th>Bldg-012582</th>\n",
       "      <td>286</td>\n",
       "      <td>True</td>\n",
       "      <td>275</td>\n",
       "      <td>-84.391561</td>\n",
       "      <td>33.755431</td>\n",
       "      <td>POINT (-84.391561 33.755431)</td>\n",
       "    </tr>\n",
       "  </tbody>\n",
       "</table>\n",
       "</div>"
      ],
      "text/plain": [
       "             Number Sites netStat  Number Accounts         lon        lat  \\\n",
       "Building ID                                                                 \n",
       "Bldg-011543             3    True                3 -104.860338  39.598945   \n",
       "Bldg-012582           286    True              275  -84.391561  33.755431   \n",
       "\n",
       "                                  geometry  \n",
       "Building ID                                 \n",
       "Bldg-011543  POINT (-104.860338 39.598945)  \n",
       "Bldg-012582   POINT (-84.391561 33.755431)  "
      ]
     },
     "execution_count": 223,
     "metadata": {},
     "output_type": "execute_result"
    }
   ],
   "source": [
    "print(len(gdf))\n",
    "gdf.head(2)"
   ]
  },
  {
   "cell_type": "code",
   "execution_count": 236,
   "metadata": {
    "collapsed": false
   },
   "outputs": [
    {
     "data": {
      "text/plain": [
       "17209"
      ]
     },
     "execution_count": 236,
     "metadata": {},
     "output_type": "execute_result"
    }
   ],
   "source": [
    "len(gdf)"
   ]
  },
  {
   "cell_type": "code",
   "execution_count": 229,
   "metadata": {
    "collapsed": true
   },
   "outputs": [],
   "source": [
    "def make_geojson(row):\n",
    "    feat = {\"type\":\"Feature\",\n",
    "            \"properties\":{\n",
    "                \"sites\": row[\"Number Sites\"]\n",
    "            },\n",
    "            \"geometry\":{\"type\":\"Point\",\"coordinates\":[]}}\n",
    "    if (not np.isnan(row.lon) and not np.isnan(row.lat)):\n",
    "        feat['geometry']['coordinates'].append(row.lon)\n",
    "        feat['geometry']['coordinates'].append(row.lat)\n",
    "    \n",
    "        return feat"
   ]
  },
  {
   "cell_type": "code",
   "execution_count": 234,
   "metadata": {
    "collapsed": false
   },
   "outputs": [],
   "source": [
    "#Create GeoJSON\n",
    "features = []\n",
    "for idx,row in gdf[~gdf.netStat].iterrows():\n",
    "    r = make_geojson(row)\n",
    "    if r:\n",
    "        features.append(r)"
   ]
  },
  {
   "cell_type": "code",
   "execution_count": 235,
   "metadata": {
    "collapsed": false
   },
   "outputs": [],
   "source": [
    "with open('../docs/data/offNetwork.geojson','w') as oFile:\n",
    "    json.dump({\"type\":\"FeatureCollection\",\"features\":features},oFile,indent=4)"
   ]
  },
  {
   "cell_type": "code",
   "execution_count": null,
   "metadata": {
    "collapsed": true
   },
   "outputs": [],
   "source": []
  }
 ],
 "metadata": {
  "kernelspec": {
   "display_name": "Python 3",
   "language": "python",
   "name": "python3"
  },
  "language_info": {
   "codemirror_mode": {
    "name": "ipython",
    "version": 3
   },
   "file_extension": ".py",
   "mimetype": "text/x-python",
   "name": "python",
   "nbconvert_exporter": "python",
   "pygments_lexer": "ipython3",
   "version": "3.5.1"
  }
 },
 "nbformat": 4,
 "nbformat_minor": 0
}
