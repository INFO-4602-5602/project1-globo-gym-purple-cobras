{
 "cells": [
  {
   "cell_type": "code",
   "execution_count": 41,
   "metadata": {
    "collapsed": false
   },
   "outputs": [],
   "source": [
    "import pandas as pd; import numpy as np; from shapely import geometry; import geopandas as gpd\n",
    "import json\n",
    "%matplotlib inline"
   ]
  },
  {
   "cell_type": "markdown",
   "metadata": {},
   "source": [
    "# Breaking everything down to Buildings"
   ]
  },
  {
   "cell_type": "code",
   "execution_count": 42,
   "metadata": {
    "collapsed": false
   },
   "outputs": [],
   "source": [
    "buildings = pd.read_csv('../raw_data/ZayoHackathonData_Buildings.csv')\n",
    "sites     = pd.read_csv('../raw_data/ZayoHackathonData_Sites.csv')\n",
    "accounts  = pd.read_csv('../raw_data/ZayoHackathonData_Accounts.csv')"
   ]
  },
  {
   "cell_type": "code",
   "execution_count": 43,
   "metadata": {
    "collapsed": false
   },
   "outputs": [
    {
     "data": {
      "text/html": [
       "<div>\n",
       "<table border=\"1\" class=\"dataframe\">\n",
       "  <thead>\n",
       "    <tr style=\"text-align: right;\">\n",
       "      <th></th>\n",
       "      <th>Building ID</th>\n",
       "      <th>Market</th>\n",
       "      <th>Street Address</th>\n",
       "      <th>City</th>\n",
       "      <th>State</th>\n",
       "      <th>Postal Code</th>\n",
       "      <th>Latitude</th>\n",
       "      <th>Longitude</th>\n",
       "      <th>On Zayo Network Status</th>\n",
       "      <th>Net Classification</th>\n",
       "      <th>Type</th>\n",
       "      <th>Network Proximity</th>\n",
       "      <th>Estimated Build Cost</th>\n",
       "    </tr>\n",
       "  </thead>\n",
       "  <tbody>\n",
       "    <tr>\n",
       "      <th>0</th>\n",
       "      <td>Bldg-115472</td>\n",
       "      <td>Atlanta</td>\n",
       "      <td>953 Donnelly Ave SW</td>\n",
       "      <td>Atlanta</td>\n",
       "      <td>GA</td>\n",
       "      <td>30310</td>\n",
       "      <td>33.728521</td>\n",
       "      <td>-84.418751</td>\n",
       "      <td>Not on Zayo Network</td>\n",
       "      <td>Fiber Only</td>\n",
       "      <td>Office - Multi Tenant</td>\n",
       "      <td>116.91</td>\n",
       "      <td>$13,507.30</td>\n",
       "    </tr>\n",
       "  </tbody>\n",
       "</table>\n",
       "</div>"
      ],
      "text/plain": [
       "   Building ID   Market       Street Address     City State Postal Code  \\\n",
       "0  Bldg-115472  Atlanta  953 Donnelly Ave SW  Atlanta    GA       30310   \n",
       "\n",
       "    Latitude  Longitude On Zayo Network Status Net Classification  \\\n",
       "0  33.728521 -84.418751    Not on Zayo Network         Fiber Only   \n",
       "\n",
       "                    Type  Network Proximity  Estimated Build Cost   \n",
       "0  Office - Multi Tenant             116.91            $13,507.30   "
      ]
     },
     "execution_count": 43,
     "metadata": {},
     "output_type": "execute_result"
    }
   ],
   "source": [
    "buildings.head(1)"
   ]
  },
  {
   "cell_type": "code",
   "execution_count": 44,
   "metadata": {
    "collapsed": false
   },
   "outputs": [
    {
     "data": {
      "text/html": [
       "<div>\n",
       "<table border=\"1\" class=\"dataframe\">\n",
       "  <thead>\n",
       "    <tr style=\"text-align: right;\">\n",
       "      <th></th>\n",
       "      <th>Site ID</th>\n",
       "      <th>Account ID</th>\n",
       "      <th>Building ID</th>\n",
       "      <th>Market</th>\n",
       "      <th>Site Address</th>\n",
       "      <th>City</th>\n",
       "      <th>State</th>\n",
       "      <th>Postal Code</th>\n",
       "      <th>Network Proximity</th>\n",
       "      <th>On Zayo Network Status</th>\n",
       "    </tr>\n",
       "  </thead>\n",
       "  <tbody>\n",
       "    <tr>\n",
       "      <th>0</th>\n",
       "      <td>Site-000001</td>\n",
       "      <td>Acct-000025</td>\n",
       "      <td>Bldg-115472</td>\n",
       "      <td>Atlanta</td>\n",
       "      <td>953 Donnelly Ave SW</td>\n",
       "      <td>Atlanta</td>\n",
       "      <td>GA</td>\n",
       "      <td>30310</td>\n",
       "      <td>116.91</td>\n",
       "      <td>Not on Zayo Network</td>\n",
       "    </tr>\n",
       "  </tbody>\n",
       "</table>\n",
       "</div>"
      ],
      "text/plain": [
       "       Site ID   Account ID  Building ID   Market         Site Address  \\\n",
       "0  Site-000001  Acct-000025  Bldg-115472  Atlanta  953 Donnelly Ave SW   \n",
       "\n",
       "      City State Postal Code  Network Proximity On Zayo Network Status  \n",
       "0  Atlanta    GA       30310             116.91    Not on Zayo Network  "
      ]
     },
     "execution_count": 44,
     "metadata": {},
     "output_type": "execute_result"
    }
   ],
   "source": [
    "sites.head(1)"
   ]
  },
  {
   "cell_type": "code",
   "execution_count": 45,
   "metadata": {
    "collapsed": false
   },
   "outputs": [
    {
     "data": {
      "text/html": [
       "<div>\n",
       "<table border=\"1\" class=\"dataframe\">\n",
       "  <thead>\n",
       "    <tr style=\"text-align: right;\">\n",
       "      <th></th>\n",
       "      <th>Account ID</th>\n",
       "      <th>Industry</th>\n",
       "      <th>Vertical</th>\n",
       "      <th>Total BRR</th>\n",
       "      <th>AnnualRevenue</th>\n",
       "      <th>NumberOfEmployees</th>\n",
       "      <th>DandB Revenue</th>\n",
       "      <th>DandB Total Employees</th>\n",
       "    </tr>\n",
       "  </thead>\n",
       "  <tbody>\n",
       "    <tr>\n",
       "      <th>0</th>\n",
       "      <td>Acct-000273</td>\n",
       "      <td>Telecommunications</td>\n",
       "      <td>Wireless</td>\n",
       "      <td>$6,084,906.00</td>\n",
       "      <td>$248,747,365.62</td>\n",
       "      <td>397</td>\n",
       "      <td>$356,943,618.45</td>\n",
       "      <td>397</td>\n",
       "    </tr>\n",
       "  </tbody>\n",
       "</table>\n",
       "</div>"
      ],
      "text/plain": [
       "    Account ID            Industry  Vertical       Total BRR   \\\n",
       "0  Acct-000273  Telecommunications  Wireless   $6,084,906.00    \n",
       "\n",
       "      AnnualRevenue   NumberOfEmployees     DandB Revenue   \\\n",
       "0   $248,747,365.62                 397   $356,943,618.45    \n",
       "\n",
       "   DandB Total Employees  \n",
       "0                    397  "
      ]
     },
     "execution_count": 45,
     "metadata": {},
     "output_type": "execute_result"
    }
   ],
   "source": [
    "accounts.head(1)"
   ]
  },
  {
   "cell_type": "code",
   "execution_count": 47,
   "metadata": {
    "collapsed": false
   },
   "outputs": [],
   "source": [
    "df = accounts.merge(sites,on=\"Account ID\")"
   ]
  },
  {
   "cell_type": "code",
   "execution_count": 52,
   "metadata": {
    "collapsed": false
   },
   "outputs": [
    {
     "data": {
      "text/html": [
       "<div>\n",
       "<table border=\"1\" class=\"dataframe\">\n",
       "  <thead>\n",
       "    <tr style=\"text-align: right;\">\n",
       "      <th></th>\n",
       "      <th>Account ID</th>\n",
       "      <th>Industry</th>\n",
       "      <th>Vertical</th>\n",
       "      <th>Total BRR</th>\n",
       "      <th>AnnualRevenue</th>\n",
       "      <th>NumberOfEmployees</th>\n",
       "      <th>DandB Revenue</th>\n",
       "      <th>DandB Total Employees</th>\n",
       "      <th>Site ID</th>\n",
       "      <th>Building ID</th>\n",
       "      <th>Market</th>\n",
       "      <th>Site Address</th>\n",
       "      <th>City</th>\n",
       "      <th>State</th>\n",
       "      <th>Postal Code</th>\n",
       "      <th>Network Proximity</th>\n",
       "      <th>On Zayo Network Status</th>\n",
       "    </tr>\n",
       "  </thead>\n",
       "  <tbody>\n",
       "    <tr>\n",
       "      <th>0</th>\n",
       "      <td>Acct-000273</td>\n",
       "      <td>Telecommunications</td>\n",
       "      <td>Wireless</td>\n",
       "      <td>$6,084,906.00</td>\n",
       "      <td>$248,747,365.62</td>\n",
       "      <td>397</td>\n",
       "      <td>$356,943,618.45</td>\n",
       "      <td>397</td>\n",
       "      <td>Site-000061</td>\n",
       "      <td>Bldg-115571</td>\n",
       "      <td>Atlanta</td>\n",
       "      <td>1720 Peachtree St NW</td>\n",
       "      <td>Atlanta</td>\n",
       "      <td>GA</td>\n",
       "      <td>30309</td>\n",
       "      <td>198.92</td>\n",
       "      <td>On Zayo Network</td>\n",
       "    </tr>\n",
       "  </tbody>\n",
       "</table>\n",
       "</div>"
      ],
      "text/plain": [
       "    Account ID            Industry  Vertical       Total BRR   \\\n",
       "0  Acct-000273  Telecommunications  Wireless   $6,084,906.00    \n",
       "\n",
       "      AnnualRevenue   NumberOfEmployees     DandB Revenue   \\\n",
       "0   $248,747,365.62                 397   $356,943,618.45    \n",
       "\n",
       "   DandB Total Employees      Site ID  Building ID   Market  \\\n",
       "0                    397  Site-000061  Bldg-115571  Atlanta   \n",
       "\n",
       "           Site Address     City State Postal Code  Network Proximity  \\\n",
       "0  1720 Peachtree St NW  Atlanta    GA       30309             198.92   \n",
       "\n",
       "  On Zayo Network Status  \n",
       "0        On Zayo Network  "
      ]
     },
     "execution_count": 52,
     "metadata": {},
     "output_type": "execute_result"
    }
   ],
   "source": [
    "d2.head(1)"
   ]
  },
  {
   "cell_type": "code",
   "execution_count": 53,
   "metadata": {
    "collapsed": true
   },
   "outputs": [],
   "source": [
    "df2 = df.merge(buildings, on=\"Building ID\")"
   ]
  },
  {
   "cell_type": "code",
   "execution_count": 104,
   "metadata": {
    "collapsed": false
   },
   "outputs": [
    {
     "data": {
      "text/html": [
       "<div>\n",
       "<table border=\"1\" class=\"dataframe\">\n",
       "  <thead>\n",
       "    <tr style=\"text-align: right;\">\n",
       "      <th></th>\n",
       "      <th>Account ID</th>\n",
       "      <th>Industry</th>\n",
       "      <th>Vertical</th>\n",
       "      <th>Total BRR</th>\n",
       "      <th>AnnualRevenue</th>\n",
       "      <th>NumberOfEmployees</th>\n",
       "      <th>DandB Revenue</th>\n",
       "      <th>DandB Total Employees</th>\n",
       "      <th>Site ID</th>\n",
       "      <th>Building ID</th>\n",
       "      <th>...</th>\n",
       "      <th>City_y</th>\n",
       "      <th>State_y</th>\n",
       "      <th>Postal Code_y</th>\n",
       "      <th>Latitude</th>\n",
       "      <th>Longitude</th>\n",
       "      <th>On Zayo Network Status_y</th>\n",
       "      <th>Net Classification</th>\n",
       "      <th>Type</th>\n",
       "      <th>Network Proximity_y</th>\n",
       "      <th>Estimated Build Cost</th>\n",
       "    </tr>\n",
       "  </thead>\n",
       "  <tbody>\n",
       "    <tr>\n",
       "      <th>0</th>\n",
       "      <td>Acct-000273</td>\n",
       "      <td>Telecommunications</td>\n",
       "      <td>Wireless</td>\n",
       "      <td>$6,084,906.00</td>\n",
       "      <td>$248,747,365.62</td>\n",
       "      <td>397</td>\n",
       "      <td>$356,943,618.45</td>\n",
       "      <td>397</td>\n",
       "      <td>Site-000061</td>\n",
       "      <td>Bldg-115571</td>\n",
       "      <td>...</td>\n",
       "      <td>Atlanta</td>\n",
       "      <td>GA</td>\n",
       "      <td>30309</td>\n",
       "      <td>33.800922</td>\n",
       "      <td>-84.393502</td>\n",
       "      <td>On Zayo Network</td>\n",
       "      <td>Fiber Only</td>\n",
       "      <td>Office - Multi Tenant</td>\n",
       "      <td>198.92</td>\n",
       "      <td>$15,967.60</td>\n",
       "    </tr>\n",
       "  </tbody>\n",
       "</table>\n",
       "<p>1 rows × 29 columns</p>\n",
       "</div>"
      ],
      "text/plain": [
       "    Account ID            Industry  Vertical       Total BRR   \\\n",
       "0  Acct-000273  Telecommunications  Wireless   $6,084,906.00    \n",
       "\n",
       "      AnnualRevenue   NumberOfEmployees     DandB Revenue   \\\n",
       "0   $248,747,365.62                 397   $356,943,618.45    \n",
       "\n",
       "   DandB Total Employees      Site ID  Building ID          ...            \\\n",
       "0                    397  Site-000061  Bldg-115571          ...             \n",
       "\n",
       "    City_y State_y Postal Code_y   Latitude  Longitude  \\\n",
       "0  Atlanta      GA         30309  33.800922 -84.393502   \n",
       "\n",
       "   On Zayo Network Status_y Net Classification                   Type  \\\n",
       "0           On Zayo Network         Fiber Only  Office - Multi Tenant   \n",
       "\n",
       "  Network Proximity_y  Estimated Build Cost   \n",
       "0              198.92            $15,967.60   \n",
       "\n",
       "[1 rows x 29 columns]"
      ]
     },
     "execution_count": 104,
     "metadata": {},
     "output_type": "execute_result"
    }
   ],
   "source": [
    "df2.head(1)"
   ]
  },
  {
   "cell_type": "code",
   "execution_count": 58,
   "metadata": {
    "collapsed": false
   },
   "outputs": [
    {
     "data": {
      "text/plain": [
       "Index(['Account ID', 'Industry', 'Vertical', ' Total BRR ', ' AnnualRevenue ',\n",
       "       'NumberOfEmployees', ' DandB Revenue ', 'DandB Total Employees',\n",
       "       'Site ID', 'Building ID', 'Market_x', 'Site Address', 'City_x',\n",
       "       'State_x', 'Postal Code_x', 'Network Proximity_x',\n",
       "       'On Zayo Network Status_x', 'Market_y', 'Street Address', 'City_y',\n",
       "       'State_y', 'Postal Code_y', 'Latitude', 'Longitude',\n",
       "       'On Zayo Network Status_y', 'Net Classification', 'Type',\n",
       "       'Network Proximity_y', ' Estimated Build Cost '],\n",
       "      dtype='object')"
      ]
     },
     "execution_count": 58,
     "metadata": {},
     "output_type": "execute_result"
    }
   ],
   "source": [
    "df2.head(2).columns"
   ]
  },
  {
   "cell_type": "code",
   "execution_count": 220,
   "metadata": {
    "collapsed": false
   },
   "outputs": [],
   "source": [
    "x = df2.groupby(\"Building ID\").agg({\n",
    "        \"Latitude\" : {'lat': lambda x: x.values[0]},\n",
    "        \"Longitude\": {'lon': lambda x: x.values[0]},\n",
    "        \"Account ID\": {\"Number Accounts\": pd.Series.nunique},\n",
    "        \"Site ID\" : {\"Number Sites\" : pd.Series.nunique},\n",
    "        \"On Zayo Network Status_y\": {\n",
    "            \"netStat\" : lambda x: x.values[0]=='On Zayo Network'}\n",
    "    })\n",
    "x.columns = x.columns.get_level_values(1)"
   ]
  },
  {
   "cell_type": "code",
   "execution_count": 221,
   "metadata": {
    "collapsed": false
   },
   "outputs": [],
   "source": [
    "gdf = gpd.GeoDataFrame(x)\n",
    "gdf.geometry = gdf.apply(lambda row: geometry.Point(row.lon, row.lat), axis=1)"
   ]
  },
  {
   "cell_type": "code",
   "execution_count": 223,
   "metadata": {
    "collapsed": false
   },
   "outputs": [
    {
     "name": "stdout",
     "output_type": "stream",
     "text": [
      "17209\n"
     ]
    },
    {
     "data": {
      "text/html": [
       "<div>\n",
       "<table border=\"1\" class=\"dataframe\">\n",
       "  <thead>\n",
       "    <tr style=\"text-align: right;\">\n",
       "      <th></th>\n",
       "      <th>Number Sites</th>\n",
       "      <th>netStat</th>\n",
       "      <th>Number Accounts</th>\n",
       "      <th>lon</th>\n",
       "      <th>lat</th>\n",
       "      <th>geometry</th>\n",
       "    </tr>\n",
       "    <tr>\n",
       "      <th>Building ID</th>\n",
       "      <th></th>\n",
       "      <th></th>\n",
       "      <th></th>\n",
       "      <th></th>\n",
       "      <th></th>\n",
       "      <th></th>\n",
       "    </tr>\n",
       "  </thead>\n",
       "  <tbody>\n",
       "    <tr>\n",
       "      <th>Bldg-011543</th>\n",
       "      <td>3</td>\n",
       "      <td>True</td>\n",
       "      <td>3</td>\n",
       "      <td>-104.860338</td>\n",
       "      <td>39.598945</td>\n",
       "      <td>POINT (-104.860338 39.598945)</td>\n",
       "    </tr>\n",
       "    <tr>\n",
       "      <th>Bldg-012582</th>\n",
       "      <td>286</td>\n",
       "      <td>True</td>\n",
       "      <td>275</td>\n",
       "      <td>-84.391561</td>\n",
       "      <td>33.755431</td>\n",
       "      <td>POINT (-84.391561 33.755431)</td>\n",
       "    </tr>\n",
       "  </tbody>\n",
       "</table>\n",
       "</div>"
      ],
      "text/plain": [
       "             Number Sites netStat  Number Accounts         lon        lat  \\\n",
       "Building ID                                                                 \n",
       "Bldg-011543             3    True                3 -104.860338  39.598945   \n",
       "Bldg-012582           286    True              275  -84.391561  33.755431   \n",
       "\n",
       "                                  geometry  \n",
       "Building ID                                 \n",
       "Bldg-011543  POINT (-104.860338 39.598945)  \n",
       "Bldg-012582   POINT (-84.391561 33.755431)  "
      ]
     },
     "execution_count": 223,
     "metadata": {},
     "output_type": "execute_result"
    }
   ],
   "source": [
    "print(len(gdf))\n",
    "gdf.head(2)"
   ]
  },
  {
   "cell_type": "code",
   "execution_count": 224,
   "metadata": {
    "collapsed": false
   },
   "outputs": [
    {
     "data": {
      "text/plain": [
       "<matplotlib.axes._subplots.AxesSubplot at 0x11e4008d0>"
      ]
     },
     "execution_count": 224,
     "metadata": {},
     "output_type": "execute_result"
    },
    {
     "data": {
      "image/png": "[encoded data removed]",
      "text/plain": [
       "<matplotlib.figure.Figure at 0x11e3f6668>"
      ]
     },
     "metadata": {},
     "output_type": "display_data"
    }
   ],
   "source": [
    "gdf[gdf.netStat].plot(figsize=(15,8), ax=ax)"
   ]
  },
  {
   "cell_type": "code",
   "execution_count": 225,
   "metadata": {
    "collapsed": false
   },
   "outputs": [
    {
     "data": {
      "text/plain": [
       "<matplotlib.axes._subplots.AxesSubplot at 0x116fd5438>"
      ]
     },
     "execution_count": 225,
     "metadata": {},
     "output_type": "execute_result"
    },
    {
     "data": {
      "image/png": "[encoded data removed]",
      "text/plain": [
       "<matplotlib.figure.Figure at 0x11e3f6390>"
      ]
     },
     "metadata": {},
     "output_type": "display_data"
    }
   ],
   "source": [
    "gdf[~gdf.netStat].plot(figsize=(15,8))"
   ]
  },
  {
   "cell_type": "code",
   "execution_count": null,
   "metadata": {
    "collapsed": true
   },
   "outputs": [],
   "source": []
  },
  {
   "cell_type": "code",
   "execution_count": 229,
   "metadata": {
    "collapsed": true
   },
   "outputs": [],
   "source": [
    "def make_geojson(row):\n",
    "    feat = {\"type\":\"Feature\",\n",
    "            \"properties\":{\n",
    "                \"sites\": row[\"Number Sites\"]\n",
    "            },\n",
    "            \"geometry\":{\"type\":\"Point\",\"coordinates\":[]}}\n",
    "    if (not np.isnan(row.lon) and not np.isnan(row.lat)):\n",
    "        feat['geometry']['coordinates'].append(row.lon)\n",
    "        feat['geometry']['coordinates'].append(row.lat)\n",
    "    \n",
    "        return feat"
   ]
  },
  {
   "cell_type": "code",
   "execution_count": 230,
   "metadata": {
    "collapsed": false
   },
   "outputs": [],
   "source": [
    "#Create GeoJSON\n",
    "features = []\n",
    "for idx,row in gdf[gdf.netStat].iterrows():\n",
    "    r = make_geojson(row)\n",
    "    if r:\n",
    "        features.append(r)"
   ]
  },
  {
   "cell_type": "code",
   "execution_count": 233,
   "metadata": {
    "collapsed": false
   },
   "outputs": [],
   "source": [
    "with open('../docs/data/offNetwork.geojson','w') as oFile:\n",
    "    json.dump({\"type\":\"FeatureCollection\",\"features\":features},oFile,indent=4)"
   ]
  },
  {
   "cell_type": "code",
   "execution_count": null,
   "metadata": {
    "collapsed": true
   },
   "outputs": [],
   "source": []
  }
 ],
 "metadata": {
  "kernelspec": {
   "display_name": "Python 3",
   "language": "python",
   "name": "python3"
  },
  "language_info": {
   "codemirror_mode": {
    "name": "ipython",
    "version": 3
   },
   "file_extension": ".py",
   "mimetype": "text/x-python",
   "name": "python",
   "nbconvert_exporter": "python",
   "pygments_lexer": "ipython3",
   "version": "3.5.1"
  }
 },
 "nbformat": 4,
 "nbformat_minor": 0
}
